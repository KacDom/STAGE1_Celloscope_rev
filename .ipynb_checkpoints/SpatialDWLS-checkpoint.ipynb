{
 "cells": [
  {
   "cell_type": "code",
   "execution_count": null,
   "metadata": {
    "colab": {
     "base_uri": "https://localhost:8080/"
    },
    "id": "B5W0ySRSikqT",
    "outputId": "ea92de05-10df-4a30-f1fb-36722a6a1181"
   },
   "outputs": [
    {
     "name": "stdout",
     "output_type": "stream",
     "text": [
      "Reading package lists...\n",
      "Building dependency tree...\n",
      "Reading state information...\n",
      "The following package was automatically installed and is no longer required:\n",
      "  libnvidia-common-460\n",
      "Use 'sudo apt autoremove' to remove it.\n",
      "The following additional packages will be installed:\n",
      "  libgsl23 libgslcblas0\n",
      "Suggested packages:\n",
      "  gsl-ref-psdoc | gsl-doc-pdf | gsl-doc-info | gsl-ref-html\n",
      "The following NEW packages will be installed:\n",
      "  libgsl-dev libgsl23 libgslcblas0\n",
      "0 upgraded, 3 newly installed, 0 to remove and 20 not upgraded.\n",
      "Need to get 1,926 kB of archives.\n",
      "After this operation, 9,474 kB of additional disk space will be used.\n",
      "Get:1 http://archive.ubuntu.com/ubuntu bionic/universe amd64 libgslcblas0 amd64 2.4+dfsg-6 [79.7 kB]\n",
      "Get:2 http://archive.ubuntu.com/ubuntu bionic/universe amd64 libgsl23 amd64 2.4+dfsg-6 [823 kB]\n",
      "Get:3 http://archive.ubuntu.com/ubuntu bionic/universe amd64 libgsl-dev amd64 2.4+dfsg-6 [1,023 kB]\n",
      "Fetched 1,926 kB in 1s (2,193 kB/s)\n",
      "Selecting previously unselected package libgslcblas0:amd64.\n",
      "(Reading database ... 159447 files and directories currently installed.)\n",
      "Preparing to unpack .../libgslcblas0_2.4+dfsg-6_amd64.deb ...\n",
      "Unpacking libgslcblas0:amd64 (2.4+dfsg-6) ...\n",
      "Selecting previously unselected package libgsl23:amd64.\n",
      "Preparing to unpack .../libgsl23_2.4+dfsg-6_amd64.deb ...\n",
      "Unpacking libgsl23:amd64 (2.4+dfsg-6) ...\n",
      "Selecting previously unselected package libgsl-dev.\n",
      "Preparing to unpack .../libgsl-dev_2.4+dfsg-6_amd64.deb ...\n",
      "Unpacking libgsl-dev (2.4+dfsg-6) ...\n",
      "Setting up libgslcblas0:amd64 (2.4+dfsg-6) ...\n",
      "Setting up libgsl23:amd64 (2.4+dfsg-6) ...\n",
      "Setting up libgsl-dev (2.4+dfsg-6) ...\n",
      "Processing triggers for man-db (2.8.3-2ubuntu0.1) ...\n",
      "Reading package lists...\n",
      "Building dependency tree...\n",
      "Reading state information...\n",
      "The following package was automatically installed and is no longer required:\n",
      "  libnvidia-common-460\n",
      "Use 'sudo apt autoremove' to remove it.\n",
      "The following additional packages will be installed:\n",
      "  libgmp-dev libgmpxx4ldbl\n",
      "Suggested packages:\n",
      "  gmp-doc libgmp10-doc libmpfr-dev\n",
      "The following NEW packages will be installed:\n",
      "  libgmp-dev libgmp3-dev libgmpxx4ldbl\n",
      "0 upgraded, 3 newly installed, 0 to remove and 20 not upgraded.\n",
      "Need to get 327 kB of archives.\n",
      "After this operation, 1,689 kB of additional disk space will be used.\n",
      "Get:1 http://archive.ubuntu.com/ubuntu bionic/main amd64 libgmpxx4ldbl amd64 2:6.1.2+dfsg-2 [8,964 B]\n",
      "Get:2 http://archive.ubuntu.com/ubuntu bionic/main amd64 libgmp-dev amd64 2:6.1.2+dfsg-2 [316 kB]\n",
      "Get:3 http://archive.ubuntu.com/ubuntu bionic/main amd64 libgmp3-dev amd64 2:6.1.2+dfsg-2 [1,996 B]\n",
      "Fetched 327 kB in 1s (641 kB/s)\n",
      "Selecting previously unselected package libgmpxx4ldbl:amd64.\n",
      "(Reading database ... 159719 files and directories currently installed.)\n",
      "Preparing to unpack .../libgmpxx4ldbl_2%3a6.1.2+dfsg-2_amd64.deb ...\n",
      "Unpacking libgmpxx4ldbl:amd64 (2:6.1.2+dfsg-2) ...\n",
      "Selecting previously unselected package libgmp-dev:amd64.\n",
      "Preparing to unpack .../libgmp-dev_2%3a6.1.2+dfsg-2_amd64.deb ...\n",
      "Unpacking libgmp-dev:amd64 (2:6.1.2+dfsg-2) ...\n",
      "Selecting previously unselected package libgmp3-dev.\n",
      "Preparing to unpack .../libgmp3-dev_2%3a6.1.2+dfsg-2_amd64.deb ...\n",
      "Unpacking libgmp3-dev (2:6.1.2+dfsg-2) ...\n",
      "Setting up libgmpxx4ldbl:amd64 (2:6.1.2+dfsg-2) ...\n",
      "Setting up libgmp-dev:amd64 (2:6.1.2+dfsg-2) ...\n",
      "Setting up libgmp3-dev (2:6.1.2+dfsg-2) ...\n",
      "Looking in indexes: https://pypi.org/simple, https://us-python.pkg.dev/colab-wheels/public/simple/\n",
      "Collecting igraph\n",
      "  Downloading igraph-0.10.1-cp37-cp37m-manylinux_2_17_x86_64.manylinux2014_x86_64.whl (3.2 MB)\n",
      "Collecting texttable>=1.6.2\n",
      "  Downloading texttable-1.6.4-py2.py3-none-any.whl (10 kB)\n",
      "Installing collected packages: texttable, igraph\n",
      "Successfully installed igraph-0.10.1 texttable-1.6.4Looking in indexes: https://pypi.org/simple, https://us-python.pkg.dev/colab-wheels/public/simple/\n",
      "Collecting leidenalg\n",
      "  Downloading leidenalg-0.8.10-cp37-cp37m-manylinux_2_17_x86_64.manylinux2014_x86_64.whl (1.3 MB)\n",
      "Collecting igraph<0.10,>=0.9.0\n",
      "  Downloading igraph-0.9.11-cp37-cp37m-manylinux_2_17_x86_64.manylinux2014_x86_64.whl (3.1 MB)\n",
      "Requirement already satisfied: texttable>=1.6.2 in /usr/local/lib/python3.7/dist-packages (from igraph<0.10,>=0.9.0->leidenalg) (1.6.4)\n",
      "Installing collected packages: igraph, leidenalg\n",
      "  Attempting uninstall: igraph\n",
      "    Found existing installation: igraph 0.10.1\n",
      "    Uninstalling igraph-0.10.1:\n",
      "      Successfully uninstalled igraph-0.10.1\n",
      "Successfully installed igraph-0.9.11 leidenalg-0.8.10"
     ]
    },
    {
     "name": "stderr",
     "output_type": "stream",
     "text": [
      "Installing package into ‘/usr/local/lib/R/site-library’\n",
      "(as ‘lib’ is unspecified)\n",
      "\n",
      "Warning message in system(command, intern = TRUE, ...):\n",
      "“running command 'add-apt-repository -y ppa:cran/imagemagick' had status 100”\n"
     ]
    },
    {
     "name": "stdout",
     "output_type": "stream",
     "text": [
      "Ign:1 https://developer.download.nvidia.com/compute/machine-learning/repos/ubuntu1804/x86_64  InRelease\n",
      "Get:2 https://developer.download.nvidia.com/compute/cuda/repos/ubuntu1804/x86_64  InRelease [1,581 B]\n",
      "Get:3 https://cloud.r-project.org/bin/linux/ubuntu bionic-cran40/ InRelease [3,626 B]\n",
      "Hit:4 https://developer.download.nvidia.com/compute/machine-learning/repos/ubuntu1804/x86_64  Release\n",
      "Hit:5 http://archive.ubuntu.com/ubuntu bionic InRelease\n",
      "Get:6 http://archive.ubuntu.com/ubuntu bionic-updates InRelease [88.7 kB]\n",
      "Get:7 https://developer.download.nvidia.com/compute/cuda/repos/ubuntu1804/x86_64  Packages [913 kB]\n",
      "Get:8 http://security.ubuntu.com/ubuntu bionic-security InRelease [88.7 kB]\n",
      "Hit:9 http://ppa.launchpad.net/c2d4u.team/c2d4u4.0+/ubuntu bionic InRelease\n",
      "Get:10 http://archive.ubuntu.com/ubuntu bionic-backports InRelease [83.3 kB]\n",
      "Ign:11 http://ppa.launchpad.net/cran/imagemagick/ubuntu bionic InRelease\n",
      "Hit:13 http://ppa.launchpad.net/cran/libgit2/ubuntu bionic InRelease\n",
      "Hit:14 http://ppa.launchpad.net/deadsnakes/ppa/ubuntu bionic InRelease\n",
      "Get:15 http://ppa.launchpad.net/graphics-drivers/ppa/ubuntu bionic InRelease [21.3 kB]\n",
      "Get:16 http://archive.ubuntu.com/ubuntu bionic-updates/universe amd64 Packages [2,323 kB]\n",
      "Err:17 http://ppa.launchpad.net/cran/imagemagick/ubuntu bionic Release\n",
      "  404  Not Found [IP: 185.125.190.52 80]\n",
      "Get:18 http://archive.ubuntu.com/ubuntu bionic-updates/main amd64 Packages [3,422 kB]\n",
      "Get:19 http://security.ubuntu.com/ubuntu bionic-security/universe amd64 Packages [1,546 kB]\n",
      "Get:20 http://security.ubuntu.com/ubuntu bionic-security/main amd64 Packages [2,990 kB]\n",
      "Get:21 http://ppa.launchpad.net/graphics-drivers/ppa/ubuntu bionic/main amd64 Packages [48.3 kB]\n",
      "Reading package lists..."
     ]
    },
    {
     "name": "stderr",
     "output_type": "stream",
     "text": [
      "Warning message in system(command, intern = TRUE, ...):\n",
      "“running command 'apt-get update' had status 100”\n"
     ]
    },
    {
     "name": "stdout",
     "output_type": "stream",
     "text": [
      "Hit:1 https://cloud.r-project.org/bin/linux/ubuntu bionic-cran40/ InRelease\n",
      "Ign:2 https://developer.download.nvidia.com/compute/machine-learning/repos/ubuntu1804/x86_64  InRelease\n",
      "Hit:3 https://developer.download.nvidia.com/compute/cuda/repos/ubuntu1804/x86_64  InRelease\n",
      "Hit:4 https://developer.download.nvidia.com/compute/machine-learning/repos/ubuntu1804/x86_64  Release\n",
      "Hit:5 http://security.ubuntu.com/ubuntu bionic-security InRelease\n",
      "Hit:6 http://archive.ubuntu.com/ubuntu bionic InRelease\n",
      "Hit:7 http://archive.ubuntu.com/ubuntu bionic-updates InRelease\n",
      "Hit:8 http://ppa.launchpad.net/c2d4u.team/c2d4u4.0+/ubuntu bionic InRelease\n",
      "Hit:9 http://archive.ubuntu.com/ubuntu bionic-backports InRelease\n",
      "Ign:11 http://ppa.launchpad.net/cran/imagemagick/ubuntu bionic InRelease\n",
      "Hit:12 http://ppa.launchpad.net/cran/libgit2/ubuntu bionic InRelease\n",
      "Hit:13 http://ppa.launchpad.net/deadsnakes/ppa/ubuntu bionic InRelease\n",
      "Hit:14 http://ppa.launchpad.net/graphics-drivers/ppa/ubuntu bionic InRelease\n",
      "Err:15 http://ppa.launchpad.net/cran/imagemagick/ubuntu bionic Release\n",
      "  404  Not Found [IP: 185.125.190.52 80]\n",
      "Reading package lists...Reading package lists...\n",
      "Building dependency tree...\n",
      "Reading state information...\n",
      "The following package was automatically installed and is no longer required:\n",
      "  libnvidia-common-460\n",
      "Use 'apt autoremove' to remove it.\n",
      "The following additional packages will be installed:\n",
      "  fonts-droid-fallback fonts-noto-mono ghostscript gir1.2-freedesktop\n",
      "  gir1.2-gdkpixbuf-2.0 gir1.2-rsvg-2.0 gsfonts imagemagick-6-common\n",
      "  libcairo-script-interpreter2 libcairo2-dev libcupsfilters1 libcupsimage2\n",
      "  libdjvulibre-dev libdjvulibre-text libdjvulibre21 libgdk-pixbuf2.0-dev\n",
      "  libgs9 libgs9-common libijs-0.35 libjbig2dec0 liblcms2-dev liblqr-1-0\n",
      "  liblqr-1-0-dev libmagick++-6-headers libmagick++-6.q16-7\n",
      "  libmagick++-6.q16-dev libmagickcore-6-arch-config libmagickcore-6-headers\n",
      "  libmagickcore-6.q16-3 libmagickcore-6.q16-3-extra libmagickcore-6.q16-dev\n",
      "  libmagickwand-6-headers libmagickwand-6.q16-3 libmagickwand-6.q16-dev\n",
      "  libpixman-1-dev librsvg2-dev libwmf-dev libwmf0.2-7 libxcb-shm0-dev\n",
      "  poppler-data\n",
      "Suggested packages:\n",
      "  fonts-noto ghostscript-x libcairo2-doc inkscape libjxr-tools librsvg2-doc\n",
      "  libwmf-doc libwmf0.2-7-gtk poppler-utils fonts-japanese-mincho\n",
      "  | fonts-ipafont-mincho fonts-japanese-gothic | fonts-ipafont-gothic\n",
      "  fonts-arphic-ukai fonts-arphic-uming fonts-nanum\n",
      "The following NEW packages will be installed:\n",
      "  fonts-droid-fallback fonts-noto-mono ghostscript gir1.2-freedesktop\n",
      "  gir1.2-gdkpixbuf-2.0 gir1.2-rsvg-2.0 gsfonts imagemagick-6-common\n",
      "  libcairo-script-interpreter2 libcairo2-dev libcupsfilters1 libcupsimage2\n",
      "  libdjvulibre-dev libdjvulibre-text libdjvulibre21 libgdk-pixbuf2.0-dev\n",
      "  libgs9 libgs9-common libijs-0.35 libjbig2dec0 liblcms2-dev liblqr-1-0\n",
      "  liblqr-1-0-dev libmagick++-6-headers libmagick++-6.q16-7\n",
      "  libmagick++-6.q16-dev libmagick++-dev libmagickcore-6-arch-config\n",
      "  libmagickcore-6-headers libmagickcore-6.q16-3 libmagickcore-6.q16-3-extra\n",
      "  libmagickcore-6.q16-dev libmagickwand-6-headers libmagickwand-6.q16-3\n",
      "  libmagickwand-6.q16-dev libpixman-1-dev librsvg2-dev libwmf-dev libwmf0.2-7\n",
      "  libxcb-shm0-dev poppler-data\n",
      "0 upgraded, 41 newly installed, 0 to remove and 20 not upgraded.\n",
      "Need to get 31.3 MB of archives.\n",
      "After this operation, 93.2 MB of additional disk space will be used.\n",
      "Get:1 http://archive.ubuntu.com/ubuntu bionic/main amd64 fonts-droid-fallback all 1:6.0.1r16-1.1 [1,805 kB]\n",
      "Get:2 http://archive.ubuntu.com/ubuntu bionic-updates/main amd64 imagemagick-6-common all 8:6.9.7.4+dfsg-16ubuntu6.13 [60.3 kB]\n",
      "Get:3 http://archive.ubuntu.com/ubuntu bionic-updates/main amd64 libmagickcore-6-arch-config amd64 8:6.9.7.4+dfsg-16ubuntu6.13 [25.3 kB]\n",
      "Get:4 http://archive.ubuntu.com/ubuntu bionic-updates/main amd64 libmagickcore-6-headers all 8:6.9.7.4+dfsg-16ubuntu6.13 [47.2 kB]\n",
      "Get:5 http://archive.ubuntu.com/ubuntu bionic-updates/main amd64 libmagickwand-6-headers all 8:6.9.7.4+dfsg-16ubuntu6.13 [10.5 kB]\n",
      "Get:6 http://archive.ubuntu.com/ubuntu bionic-updates/main amd64 libmagick++-6-headers all 8:6.9.7.4+dfsg-16ubuntu6.13 [47.2 kB]\n",
      "Get:7 http://archive.ubuntu.com/ubuntu bionic/main amd64 liblqr-1-0 amd64 0.4.2-2.1 [27.7 kB]\n",
      "Get:8 http://archive.ubuntu.com/ubuntu bionic-updates/main amd64 libmagickcore-6.q16-3 amd64 8:6.9.7.4+dfsg-16ubuntu6.13 [1,620 kB]\n",
      "Get:9 http://archive.ubuntu.com/ubuntu bionic-updates/main amd64 libmagickwand-6.q16-3 amd64 8:6.9.7.4+dfsg-16ubuntu6.13 [292 kB]\n",
      "Get:10 http://archive.ubuntu.com/ubuntu bionic-updates/main amd64 libmagick++-6.q16-7 amd64 8:6.9.7.4+dfsg-16ubuntu6.13 [139 kB]\n",
      "Get:11 http://archive.ubuntu.com/ubuntu bionic-updates/main amd64 libdjvulibre-text all 3.5.27.1-8ubuntu0.4 [49.4 kB]\n",
      "Get:12 http://archive.ubuntu.com/ubuntu bionic-updates/main amd64 libdjvulibre21 amd64 3.5.27.1-8ubuntu0.4 [561 kB]\n",
      "Get:13 http://archive.ubuntu.com/ubuntu bionic/main amd64 libwmf0.2-7 amd64 0.2.8.4-12 [150 kB]\n",
      "Get:14 http://archive.ubuntu.com/ubuntu bionic-updates/main amd64 libmagickcore-6.q16-3-extra amd64 8:6.9.7.4+dfsg-16ubuntu6.13 [62.3 kB]\n",
      "Get:15 http://archive.ubuntu.com/ubuntu bionic-updates/main amd64 libdjvulibre-dev amd64 3.5.27.1-8ubuntu0.4 [2,382 kB]\n",
      "Get:16 http://archive.ubuntu.com/ubuntu bionic-updates/main amd64 liblcms2-dev amd64 2.9-1ubuntu0.1 [9,096 kB]\n",
      "Get:17 http://archive.ubuntu.com/ubuntu bionic/main amd64 liblqr-1-0-dev amd64 0.4.2-2.1 [69.1 kB]\n",
      "Get:18 http://archive.ubuntu.com/ubuntu bionic/main amd64 gir1.2-freedesktop amd64 1.56.1-1 [9,080 B]\n",
      "Get:19 http://archive.ubuntu.com/ubuntu bionic/main amd64 gir1.2-gdkpixbuf-2.0 amd64 2.36.11-2 [7,748 B]\n",
      "Get:20 http://archive.ubuntu.com/ubuntu bionic-updates/main amd64 gir1.2-rsvg-2.0 amd64 2.40.20-2ubuntu0.2 [3,764 B]\n",
      "Get:21 http://archive.ubuntu.com/ubuntu bionic/main amd64 libgdk-pixbuf2.0-dev amd64 2.36.11-2 [46.8 kB]\n",
      "Get:22 http://archive.ubuntu.com/ubuntu bionic-updates/main amd64 libcairo-script-interpreter2 amd64 1.15.10-2ubuntu0.1 [53.5 kB]\n",
      "Get:23 http://archive.ubuntu.com/ubuntu bionic/main amd64 libpixman-1-dev amd64 0.34.0-2 [244 kB]\n",
      "Get:24 http://archive.ubuntu.com/ubuntu bionic-updates/main amd64 libxcb-shm0-dev amd64 1.13-2~ubuntu18.04 [6,684 B]\n",
      "Get:25 http://archive.ubuntu.com/ubuntu bionic-updates/main amd64 libcairo2-dev amd64 1.15.10-2ubuntu0.1 [626 kB]\n",
      "Get:26 http://archive.ubuntu.com/ubuntu bionic-updates/main amd64 librsvg2-dev amd64 2.40.20-2ubuntu0.2 [10.7 kB]\n",
      "Get:27 http://archive.ubuntu.com/ubuntu bionic/main amd64 libwmf-dev amd64 0.2.8.4-12 [172 kB]\n",
      "Get:28 http://archive.ubuntu.com/ubuntu bionic-updates/main amd64 libmagickcore-6.q16-dev amd64 8:6.9.7.4+dfsg-16ubuntu6.13 [974 kB]\n",
      "Get:29 http://archive.ubuntu.com/ubuntu bionic-updates/main amd64 libmagickwand-6.q16-dev amd64 8:6.9.7.4+dfsg-16ubuntu6.13 [290 kB]\n",
      "Get:30 http://archive.ubuntu.com/ubuntu bionic-updates/main amd64 libmagick++-6.q16-dev amd64 8:6.9.7.4+dfsg-16ubuntu6.13 [119 kB]\n",
      "Get:31 http://archive.ubuntu.com/ubuntu bionic-updates/main amd64 libmagick++-dev all 8:6.9.7.4+dfsg-16ubuntu6.13 [1,408 B]\n",
      "Get:32 http://archive.ubuntu.com/ubuntu bionic/main amd64 poppler-data all 0.4.8-2 [1,479 kB]\n",
      "Get:33 http://archive.ubuntu.com/ubuntu bionic/main amd64 fonts-noto-mono all 20171026-2 [75.5 kB]\n",
      "Get:34 http://archive.ubuntu.com/ubuntu bionic-updates/main amd64 libcupsimage2 amd64 2.2.7-1ubuntu2.9 [18.6 kB]\n",
      "Get:35 http://archive.ubuntu.com/ubuntu bionic/main amd64 libijs-0.35 amd64 0.35-13 [15.5 kB]\n",
      "Get:36 http://archive.ubuntu.com/ubuntu bionic/main amd64 libjbig2dec0 amd64 0.13-6 [55.9 kB]\n",
      "Get:37 http://archive.ubuntu.com/ubuntu bionic-updates/main amd64 libgs9-common all 9.26~dfsg+0-0ubuntu0.18.04.17 [5,092 kB]\n",
      "Get:38 http://archive.ubuntu.com/ubuntu bionic-updates/main amd64 libgs9 amd64 9.26~dfsg+0-0ubuntu0.18.04.17 [2,267 kB]\n",
      "Get:39 http://archive.ubuntu.com/ubuntu bionic-updates/main amd64 ghostscript amd64 9.26~dfsg+0-0ubuntu0.18.04.17 [51.3 kB]\n",
      "Get:40 http://archive.ubuntu.com/ubuntu bionic/main amd64 gsfonts all 1:8.11+urwcyr1.0.7~pre44-4.4 [3,120 kB]\n",
      "Get:41 http://archive.ubuntu.com/ubuntu bionic-updates/main amd64 libcupsfilters1 amd64 1.20.2-0ubuntu3.1 [108 kB]\n",
      "Fetched 31.3 MB in 2s (18.4 MB/s)\n",
      "Selecting previously unselected package fonts-droid-fallback.\n",
      "(Reading database ... 159740 files and directories currently installed.)\n",
      "Preparing to unpack .../00-fonts-droid-fallback_1%3a6.0.1r16-1.1_all.deb ...\n",
      "Unpacking fonts-droid-fallback (1:6.0.1r16-1.1) ...\n",
      "Selecting previously unselected package imagemagick-6-common.\n",
      "Preparing to unpack .../01-imagemagick-6-common_8%3a6.9.7.4+dfsg-16ubuntu6.13_all.deb ...\n",
      "Unpacking imagemagick-6-common (8:6.9.7.4+dfsg-16ubuntu6.13) ...\n",
      "Selecting previously unselected package libmagickcore-6-arch-config:amd64.\n",
      "Preparing to unpack .../02-libmagickcore-6-arch-config_8%3a6.9.7.4+dfsg-16ubuntu6.13_amd64.deb ...\n",
      "Unpacking libmagickcore-6-arch-config:amd64 (8:6.9.7.4+dfsg-16ubuntu6.13) ...\n",
      "Selecting previously unselected package libmagickcore-6-headers.\n",
      "Preparing to unpack .../03-libmagickcore-6-headers_8%3a6.9.7.4+dfsg-16ubuntu6.13_all.deb ...\n",
      "Unpacking libmagickcore-6-headers (8:6.9.7.4+dfsg-16ubuntu6.13) ...\n",
      "Selecting previously unselected package libmagickwand-6-headers.\n",
      "Preparing to unpack .../04-libmagickwand-6-headers_8%3a6.9.7.4+dfsg-16ubuntu6.13_all.deb ...\n",
      "Unpacking libmagickwand-6-headers (8:6.9.7.4+dfsg-16ubuntu6.13) ...\n",
      "Selecting previously unselected package libmagick++-6-headers.\n",
      "Preparing to unpack .../05-libmagick++-6-headers_8%3a6.9.7.4+dfsg-16ubuntu6.13_all.deb ...\n",
      "Unpacking libmagick++-6-headers (8:6.9.7.4+dfsg-16ubuntu6.13) ...\n",
      "Selecting previously unselected package liblqr-1-0:amd64.\n",
      "Preparing to unpack .../06-liblqr-1-0_0.4.2-2.1_amd64.deb ...\n",
      "Unpacking liblqr-1-0:amd64 (0.4.2-2.1) ...\n",
      "Selecting previously unselected package libmagickcore-6.q16-3:amd64.\n",
      "Preparing to unpack .../07-libmagickcore-6.q16-3_8%3a6.9.7.4+dfsg-16ubuntu6.13_amd64.deb ...\n",
      "Unpacking libmagickcore-6.q16-3:amd64 (8:6.9.7.4+dfsg-16ubuntu6.13) ...\n",
      "Selecting previously unselected package libmagickwand-6.q16-3:amd64.\n",
      "Preparing to unpack .../08-libmagickwand-6.q16-3_8%3a6.9.7.4+dfsg-16ubuntu6.13_amd64.deb ...\n",
      "Unpacking libmagickwand-6.q16-3:amd64 (8:6.9.7.4+dfsg-16ubuntu6.13) ...\n",
      "Selecting previously unselected package libmagick++-6.q16-7:amd64.\n",
      "Preparing to unpack .../09-libmagick++-6.q16-7_8%3a6.9.7.4+dfsg-16ubuntu6.13_amd64.deb ...\n",
      "Unpacking libmagick++-6.q16-7:amd64 (8:6.9.7.4+dfsg-16ubuntu6.13) ...\n",
      "Selecting previously unselected package libdjvulibre-text.\n",
      "Preparing to unpack .../10-libdjvulibre-text_3.5.27.1-8ubuntu0.4_all.deb ...\n",
      "Unpacking libdjvulibre-text (3.5.27.1-8ubuntu0.4) ...\n",
      "Selecting previously unselected package libdjvulibre21:amd64.\n",
      "Preparing to unpack .../11-libdjvulibre21_3.5.27.1-8ubuntu0.4_amd64.deb ...\n",
      "Unpacking libdjvulibre21:amd64 (3.5.27.1-8ubuntu0.4) ...\n",
      "Selecting previously unselected package libwmf0.2-7:amd64.\n",
      "Preparing to unpack .../12-libwmf0.2-7_0.2.8.4-12_amd64.deb ...\n",
      "Unpacking libwmf0.2-7:amd64 (0.2.8.4-12) ...\n",
      "Selecting previously unselected package libmagickcore-6.q16-3-extra:amd64.\n",
      "Preparing to unpack .../13-libmagickcore-6.q16-3-extra_8%3a6.9.7.4+dfsg-16ubuntu6.13_amd64.deb ...\n",
      "Unpacking libmagickcore-6.q16-3-extra:amd64 (8:6.9.7.4+dfsg-16ubuntu6.13) ...\n",
      "Selecting previously unselected package libdjvulibre-dev:amd64.\n",
      "Preparing to unpack .../14-libdjvulibre-dev_3.5.27.1-8ubuntu0.4_amd64.deb ...\n",
      "Unpacking libdjvulibre-dev:amd64 (3.5.27.1-8ubuntu0.4) ...\n",
      "Selecting previously unselected package liblcms2-dev:amd64.\n",
      "Preparing to unpack .../15-liblcms2-dev_2.9-1ubuntu0.1_amd64.deb ...\n",
      "Unpacking liblcms2-dev:amd64 (2.9-1ubuntu0.1) ...\n",
      "Selecting previously unselected package liblqr-1-0-dev:amd64.\n",
      "Preparing to unpack .../16-liblqr-1-0-dev_0.4.2-2.1_amd64.deb ...\n",
      "Unpacking liblqr-1-0-dev:amd64 (0.4.2-2.1) ...\n",
      "Selecting previously unselected package gir1.2-freedesktop:amd64.\n",
      "Preparing to unpack .../17-gir1.2-freedesktop_1.56.1-1_amd64.deb ...\n",
      "Unpacking gir1.2-freedesktop:amd64 (1.56.1-1) ...\n",
      "Selecting previously unselected package gir1.2-gdkpixbuf-2.0:amd64.\n",
      "Preparing to unpack .../18-gir1.2-gdkpixbuf-2.0_2.36.11-2_amd64.deb ...\n",
      "Unpacking gir1.2-gdkpixbuf-2.0:amd64 (2.36.11-2) ...\n",
      "Selecting previously unselected package gir1.2-rsvg-2.0:amd64.\n",
      "Preparing to unpack .../19-gir1.2-rsvg-2.0_2.40.20-2ubuntu0.2_amd64.deb ...\n",
      "Unpacking gir1.2-rsvg-2.0:amd64 (2.40.20-2ubuntu0.2) ...\n",
      "Selecting previously unselected package libgdk-pixbuf2.0-dev.\n",
      "Preparing to unpack .../20-libgdk-pixbuf2.0-dev_2.36.11-2_amd64.deb ...\n",
      "Unpacking libgdk-pixbuf2.0-dev (2.36.11-2) ...\n",
      "Selecting previously unselected package libcairo-script-interpreter2:amd64.\n",
      "Preparing to unpack .../21-libcairo-script-interpreter2_1.15.10-2ubuntu0.1_amd64.deb ...\n",
      "Unpacking libcairo-script-interpreter2:amd64 (1.15.10-2ubuntu0.1) ...\n",
      "Selecting previously unselected package libpixman-1-dev:amd64.\n",
      "Preparing to unpack .../22-libpixman-1-dev_0.34.0-2_amd64.deb ...\n",
      "Unpacking libpixman-1-dev:amd64 (0.34.0-2) ...\n",
      "Selecting previously unselected package libxcb-shm0-dev:amd64.\n",
      "Preparing to unpack .../23-libxcb-shm0-dev_1.13-2~ubuntu18.04_amd64.deb ...\n",
      "Unpacking libxcb-shm0-dev:amd64 (1.13-2~ubuntu18.04) ...\n",
      "Selecting previously unselected package libcairo2-dev:amd64.\n",
      "Preparing to unpack .../24-libcairo2-dev_1.15.10-2ubuntu0.1_amd64.deb ...\n",
      "Unpacking libcairo2-dev:amd64 (1.15.10-2ubuntu0.1) ...\n",
      "Selecting previously unselected package librsvg2-dev:amd64.\n",
      "Preparing to unpack .../25-librsvg2-dev_2.40.20-2ubuntu0.2_amd64.deb ...\n",
      "Unpacking librsvg2-dev:amd64 (2.40.20-2ubuntu0.2) ...\n",
      "Selecting previously unselected package libwmf-dev.\n",
      "Preparing to unpack .../26-libwmf-dev_0.2.8.4-12_amd64.deb ...\n",
      "Unpacking libwmf-dev (0.2.8.4-12) ...\n",
      "Selecting previously unselected package libmagickcore-6.q16-dev:amd64.\n",
      "Preparing to unpack .../27-libmagickcore-6.q16-dev_8%3a6.9.7.4+dfsg-16ubuntu6.13_amd64.deb ...\n",
      "Unpacking libmagickcore-6.q16-dev:amd64 (8:6.9.7.4+dfsg-16ubuntu6.13) ...\n",
      "Selecting previously unselected package libmagickwand-6.q16-dev:amd64.\n",
      "Preparing to unpack .../28-libmagickwand-6.q16-dev_8%3a6.9.7.4+dfsg-16ubuntu6.13_amd64.deb ...\n",
      "Unpacking libmagickwand-6.q16-dev:amd64 (8:6.9.7.4+dfsg-16ubuntu6.13) ...\n",
      "Selecting previously unselected package libmagick++-6.q16-dev:amd64.\n",
      "Preparing to unpack .../29-libmagick++-6.q16-dev_8%3a6.9.7.4+dfsg-16ubuntu6.13_amd64.deb ...\n",
      "Unpacking libmagick++-6.q16-dev:amd64 (8:6.9.7.4+dfsg-16ubuntu6.13) ...\n",
      "Selecting previously unselected package libmagick++-dev.\n",
      "Preparing to unpack .../30-libmagick++-dev_8%3a6.9.7.4+dfsg-16ubuntu6.13_all.deb ...\n",
      "Unpacking libmagick++-dev (8:6.9.7.4+dfsg-16ubuntu6.13) ...\n",
      "Selecting previously unselected package poppler-data.\n",
      "Preparing to unpack .../31-poppler-data_0.4.8-2_all.deb ...\n",
      "Unpacking poppler-data (0.4.8-2) ...\n",
      "Selecting previously unselected package fonts-noto-mono.\n",
      "Preparing to unpack .../32-fonts-noto-mono_20171026-2_all.deb ...\n",
      "Unpacking fonts-noto-mono (20171026-2) ...\n",
      "Selecting previously unselected package libcupsimage2:amd64.\n",
      "Preparing to unpack .../33-libcupsimage2_2.2.7-1ubuntu2.9_amd64.deb ...\n",
      "Unpacking libcupsimage2:amd64 (2.2.7-1ubuntu2.9) ...\n",
      "Selecting previously unselected package libijs-0.35:amd64.\n",
      "Preparing to unpack .../34-libijs-0.35_0.35-13_amd64.deb ...\n",
      "Unpacking libijs-0.35:amd64 (0.35-13) ...\n",
      "Selecting previously unselected package libjbig2dec0:amd64.\n",
      "Preparing to unpack .../35-libjbig2dec0_0.13-6_amd64.deb ...\n",
      "Unpacking libjbig2dec0:amd64 (0.13-6) ...\n",
      "Selecting previously unselected package libgs9-common.\n",
      "Preparing to unpack .../36-libgs9-common_9.26~dfsg+0-0ubuntu0.18.04.17_all.deb ...\n",
      "Unpacking libgs9-common (9.26~dfsg+0-0ubuntu0.18.04.17) ...\n",
      "Selecting previously unselected package libgs9:amd64.\n",
      "Preparing to unpack .../37-libgs9_9.26~dfsg+0-0ubuntu0.18.04.17_amd64.deb ...\n",
      "Unpacking libgs9:amd64 (9.26~dfsg+0-0ubuntu0.18.04.17) ...\n",
      "Selecting previously unselected package ghostscript.\n",
      "Preparing to unpack .../38-ghostscript_9.26~dfsg+0-0ubuntu0.18.04.17_amd64.deb ...\n",
      "Unpacking ghostscript (9.26~dfsg+0-0ubuntu0.18.04.17) ...\n",
      "Selecting previously unselected package gsfonts.\n",
      "Preparing to unpack .../39-gsfonts_1%3a8.11+urwcyr1.0.7~pre44-4.4_all.deb ...\n",
      "Unpacking gsfonts (1:8.11+urwcyr1.0.7~pre44-4.4) ...\n",
      "Selecting previously unselected package libcupsfilters1:amd64.\n",
      "Preparing to unpack .../40-libcupsfilters1_1.20.2-0ubuntu3.1_amd64.deb ...\n",
      "Unpacking libcupsfilters1:amd64 (1.20.2-0ubuntu3.1) ...\n",
      "Setting up libgs9-common (9.26~dfsg+0-0ubuntu0.18.04.17) ...\n",
      "Setting up imagemagick-6-common (8:6.9.7.4+dfsg-16ubuntu6.13) ...\n",
      "Setting up fonts-droid-fallback (1:6.0.1r16-1.1) ...\n",
      "Setting up liblcms2-dev:amd64 (2.9-1ubuntu0.1) ...\n",
      "Setting up gsfonts (1:8.11+urwcyr1.0.7~pre44-4.4) ...\n",
      "Setting up libcairo-script-interpreter2:amd64 (1.15.10-2ubuntu0.1) ...\n",
      "Setting up poppler-data (0.4.8-2) ...\n",
      "Setting up libdjvulibre-text (3.5.27.1-8ubuntu0.4) ...\n",
      "Setting up gir1.2-freedesktop:amd64 (1.56.1-1) ...\n",
      "Setting up libxcb-shm0-dev:amd64 (1.13-2~ubuntu18.04) ...\n",
      "Setting up libmagickcore-6-arch-config:amd64 (8:6.9.7.4+dfsg-16ubuntu6.13) ...\n",
      "Setting up gir1.2-gdkpixbuf-2.0:amd64 (2.36.11-2) ...\n",
      "Setting up fonts-noto-mono (20171026-2) ...\n",
      "Setting up libcupsfilters1:amd64 (1.20.2-0ubuntu3.1) ...\n",
      "Setting up libcupsimage2:amd64 (2.2.7-1ubuntu2.9) ...\n",
      "Setting up liblqr-1-0:amd64 (0.4.2-2.1) ...\n",
      "Setting up libjbig2dec0:amd64 (0.13-6) ...\n",
      "Setting up libgdk-pixbuf2.0-dev (2.36.11-2) ...\n",
      "Setting up libpixman-1-dev:amd64 (0.34.0-2) ...\n",
      "Setting up gir1.2-rsvg-2.0:amd64 (2.40.20-2ubuntu0.2) ...\n",
      "Setting up libijs-0.35:amd64 (0.35-13) ...\n",
      "Setting up libmagickcore-6-headers (8:6.9.7.4+dfsg-16ubuntu6.13) ...\n",
      "Setting up libgs9:amd64 (9.26~dfsg+0-0ubuntu0.18.04.17) ...\n",
      "Setting up libwmf0.2-7:amd64 (0.2.8.4-12) ...\n",
      "Setting up libwmf-dev (0.2.8.4-12) ...\n",
      "Setting up libmagickcore-6.q16-3:amd64 (8:6.9.7.4+dfsg-16ubuntu6.13) ...\n",
      "Setting up liblqr-1-0-dev:amd64 (0.4.2-2.1) ...\n",
      "Setting up libcairo2-dev:amd64 (1.15.10-2ubuntu0.1) ...\n",
      "Setting up libdjvulibre21:amd64 (3.5.27.1-8ubuntu0.4) ...\n",
      "Setting up libmagickwand-6-headers (8:6.9.7.4+dfsg-16ubuntu6.13) ...\n",
      "Setting up libdjvulibre-dev:amd64 (3.5.27.1-8ubuntu0.4) ...\n",
      "Setting up librsvg2-dev:amd64 (2.40.20-2ubuntu0.2) ...\n",
      "Setting up ghostscript (9.26~dfsg+0-0ubuntu0.18.04.17) ...\n",
      "Setting up libmagickwand-6.q16-3:amd64 (8:6.9.7.4+dfsg-16ubuntu6.13) ...\n",
      "Setting up libmagick++-6-headers (8:6.9.7.4+dfsg-16ubuntu6.13) ...\n",
      "Setting up libmagick++-6.q16-7:amd64 (8:6.9.7.4+dfsg-16ubuntu6.13) ...\n",
      "Setting up libmagickcore-6.q16-3-extra:amd64 (8:6.9.7.4+dfsg-16ubuntu6.13) ...\n",
      "Setting up libmagickcore-6.q16-dev:amd64 (8:6.9.7.4+dfsg-16ubuntu6.13) ...\n",
      "Setting up libmagickwand-6.q16-dev:amd64 (8:6.9.7.4+dfsg-16ubuntu6.13) ...\n",
      "Setting up libmagick++-6.q16-dev:amd64 (8:6.9.7.4+dfsg-16ubuntu6.13) ...\n",
      "Setting up libmagick++-dev (8:6.9.7.4+dfsg-16ubuntu6.13) ...\n",
      "Processing triggers for libc-bin (2.27-3ubuntu1.5) ...\n",
      "Processing triggers for man-db (2.8.3-2ubuntu0.1) ...\n"
     ]
    },
    {
     "name": "stderr",
     "output_type": "stream",
     "text": [
      "Installing package into ‘/usr/local/lib/R/site-library’\n",
      "(as ‘lib’ is unspecified)\n",
      "\n",
      "also installing the dependency ‘Rcpp’\n",
      "\n",
      "\n",
      "Loading required package: remotes\n",
      "\n",
      "Downloading GitHub repo RubD/Giotto@HEAD\n",
      "\n"
     ]
    },
    {
     "name": "stdout",
     "output_type": "stream",
     "text": [
      "sitmo        (NA    -> 2.0.2     ) [CRAN]\n",
      "BH           (NA    -> 1.78.0-0  ) [CRAN]\n",
      "R.methodsS3  (NA    -> 1.8.2     ) [CRAN]\n",
      "RcppGSL      (NA    -> 0.3.11    ) [CRAN]\n",
      "plyr         (NA    -> 1.8.7     ) [CRAN]\n",
      "later        (NA    -> 1.3.0     ) [CRAN]\n",
      "lazyeval     (NA    -> 0.2.2     ) [CRAN]\n",
      "vctrs        (0.4.1 -> 0.4.2     ) [CRAN]\n",
      "tibble       (3.1.7 -> 3.1.8     ) [CRAN]\n",
      "RcppArmad... (NA    -> 0.11.2.4.0) [CRAN]\n",
      "igraph       (NA    -> 1.3.5     ) [CRAN]\n",
      "gridExtra    (NA    -> 2.3       ) [CRAN]\n",
      "RcppEigen    (NA    -> 0.3.3.9.2 ) [CRAN]\n",
      "polyclip     (NA    -> 1.10-0    ) [CRAN]\n",
      "tweenr       (NA    -> 2.0.2     ) [CRAN]\n",
      "iterators    (NA    -> 1.0.14    ) [CRAN]\n",
      "foreach      (NA    -> 1.5.2     ) [CRAN]\n",
      "S4Vectors    (NA    -> 0.34.0    ) [CRAN]\n",
      "BiocGenerics (NA    -> 0.42.0    ) [CRAN]\n",
      "crayon       (1.5.1 -> 1.5.2     ) [CRAN]\n",
      "GlobalOpt... (NA    -> 0.1.2     ) [CRAN]\n",
      "rjson        (NA    -> 0.2.21    ) [CRAN]\n",
      "shape        (NA    -> 1.4.6     ) [CRAN]\n",
      "dqrng        (NA    -> 0.3.0     ) [CRAN]\n",
      "RcppProgress (NA    -> 0.4.2     ) [CRAN]\n",
      "irlba        (NA    -> 2.3.5     ) [CRAN]\n",
      "RcppAnnoy    (NA    -> 0.0.19    ) [CRAN]\n",
      "FNN          (NA    -> 1.1.3.1   ) [CRAN]\n",
      "R.oo         (NA    -> 1.25.0    ) [CRAN]\n",
      "RcppZiggurat (NA    -> 0.1.6     ) [CRAN]\n",
      "png          (NA    -> 0.1-7     ) [CRAN]\n",
      "here         (NA    -> 1.0.1     ) [CRAN]\n",
      "RcppTOML     (NA    -> 0.1.7     ) [CRAN]\n",
      "reshape2     (NA    -> 1.4.4     ) [CRAN]\n",
      "promises     (NA    -> 1.2.0.1   ) [CRAN]\n",
      "crosstalk    (NA    -> 1.2.0     ) [CRAN]\n",
      "htmlwidgets  (NA    -> 1.5.4     ) [CRAN]\n",
      "corpcor      (NA    -> 1.6.10    ) [CRAN]\n",
      "graphlayouts (NA    -> 0.8.2     ) [CRAN]\n",
      "tidygraph    (NA    -> 1.2.2     ) [CRAN]\n",
      "viridis      (NA    -> 0.6.2     ) [CRAN]\n",
      "ggrepel      (NA    -> 0.9.1     ) [CRAN]\n",
      "ggforce      (NA    -> 0.4.0     ) [CRAN]\n",
      "doParallel   (NA    -> 1.0.17    ) [CRAN]\n",
      "matrixStats  (NA    -> 0.62.0    ) [CRAN]\n",
      "IRanges      (NA    -> 2.30.1    ) [CRAN]\n",
      "clue         (NA    -> 0.3-61    ) [CRAN]\n",
      "GetoptLong   (NA    -> 1.0.5     ) [CRAN]\n",
      "circlize     (NA    -> 0.4.15    ) [CRAN]\n",
      "gmp          (NA    -> 0.6-6     ) [CRAN]\n",
      "gtools       (NA    -> 3.9.3     ) [CRAN]\n",
      "uwot         (NA    -> 0.1.14    ) [CRAN]\n",
      "R.utils      (NA    -> 2.12.0    ) [CRAN]\n",
      "Rtsne        (NA    -> 0.16      ) [CRAN]\n",
      "Rfast        (NA    -> 2.0.6     ) [CRAN]\n",
      "reticulate   (NA    -> 1.26      ) [CRAN]\n",
      "qvalue       (NA    -> 2.28.0    ) [CRAN]\n",
      "plotly       (NA    -> 4.10.0    ) [CRAN]\n",
      "limma        (NA    -> 3.52.4    ) [CRAN]\n",
      "lfa          (NA    -> 1.26.0    ) [CRAN]\n",
      "ggraph       (NA    -> 2.0.6     ) [CRAN]\n",
      "ggdendro     (NA    -> 0.1.23    ) [CRAN]\n",
      "fitdistrplus (NA    -> 1.1-8     ) [CRAN]\n",
      "deldir       (NA    -> 1.0-6     ) [CRAN]\n",
      "dbscan       (NA    -> 1.1-10    ) [CRAN]\n",
      "cowplot      (NA    -> 1.1.1     ) [CRAN]\n",
      "ComplexHe... (NA    -> 2.12.1    ) [CRAN]\n",
      "ClusterR     (NA    -> 1.2.7     ) [CRAN]\n"
     ]
    },
    {
     "name": "stderr",
     "output_type": "stream",
     "text": [
      "Installing 68 packages: sitmo, BH, R.methodsS3, RcppGSL, plyr, later, lazyeval, vctrs, tibble, RcppArmadillo, igraph, gridExtra, RcppEigen, polyclip, tweenr, iterators, foreach, S4Vectors, BiocGenerics, crayon, GlobalOptions, rjson, shape, dqrng, RcppProgress, irlba, RcppAnnoy, FNN, R.oo, RcppZiggurat, png, here, RcppTOML, reshape2, promises, crosstalk, htmlwidgets, corpcor, graphlayouts, tidygraph, viridis, ggrepel, ggforce, doParallel, matrixStats, IRanges, clue, GetoptLong, circlize, gmp, gtools, uwot, R.utils, Rtsne, Rfast, reticulate, qvalue, plotly, limma, lfa, ggraph, ggdendro, fitdistrplus, deldir, dbscan, cowplot, ComplexHeatmap, ClusterR\n",
      "\n",
      "Installing packages into ‘/usr/local/lib/R/site-library’\n",
      "(as ‘lib’ is unspecified)\n",
      "\n"
     ]
    },
    {
     "name": "stdout",
     "output_type": "stream",
     "text": [
      "* checking for file ‘/tmp/Rtmp2N0nfc/remotes377c10b722/RubD-Giotto-94e1366/DESCRIPTION’ ... OK\n",
      "* preparing ‘Giotto’:\n",
      "* checking DESCRIPTION meta-information ... OK\n",
      "* cleaning src\n",
      "* checking for LF line-endings in source and make files and shell scripts\n",
      "* checking for empty or unneeded directories\n",
      "Removed empty directory ‘Giotto/src’\n",
      "* building ‘Giotto_1.1.2.tar.gz’\n",
      "\n"
     ]
    },
    {
     "name": "stderr",
     "output_type": "stream",
     "text": [
      "Installing package into ‘/usr/local/lib/R/site-library’\n",
      "(as ‘lib’ is unspecified)\n",
      "\n"
     ]
    }
   ],
   "source": [
    "shell_call <- function(command, ...) {\n",
    "  result <- system(command, intern = TRUE, ...)\n",
    "  cat(paste0(result, collapse = \"\\n\"))}\n",
    "shell_call(\"sudo apt install libgsl-dev\")\n",
    "shell_call(\"sudo apt-get install libgmp3-dev\")\n",
    "shell_call(\"pip install igraph\")\n",
    "shell_call(\"pip install leidenalg\")\n",
    "install.packages('quadprog')\n",
    "shell_call('add-apt-repository -y ppa:cran/imagemagick')\n",
    "shell_call('apt-get update')\n",
    "shell_call(\"apt-get install libmagick++-dev\")\n",
    "install.packages(\"magick\")\n",
    "require(remotes)\n",
    "remotes::install_github(\"RubD/Giotto\") \n",
    "library(Giotto)"
   ]
  },
  {
   "cell_type": "code",
   "execution_count": null,
   "metadata": {
    "colab": {
     "base_uri": "https://localhost:8080/"
    },
    "id": "ASo2eOCWb3CY",
    "outputId": "99771e7e-aba9-4685-ecd0-b68d87d17fc0"
   },
   "outputs": [
    {
     "name": "stdout",
     "output_type": "stream",
     "text": [
      "/usr/bin/python3\n",
      " external python path provided and will be used \n"
     ]
    }
   ],
   "source": [
    "shell_call(\"which python3\")\n",
    "python_path = '/usr/bin/python3'\n",
    "my_working_dir = '/content'\n",
    "instrs = createGiottoInstructions(python_path = python_path, show_plot = FALSE)\n",
    "setwd(\"/content\")\n",
    "dataset_zip = 'dense'\n",
    "unzip(paste(dataset_zip, 'zip', sep='.'))"
   ]
  },
  {
   "cell_type": "code",
   "execution_count": null,
   "metadata": {
    "colab": {
     "base_uri": "https://localhost:8080/"
    },
    "id": "vh5W2SfgDKl2",
    "outputId": "4d1526a7-a53e-4a8e-8cd1-544756254f19"
   },
   "outputs": [
    {
     "name": "stdout",
     "output_type": "stream",
     "text": [
      " [1] \"./setup01\" \"./setup02\" \"./setup03\" \"./setup04\" \"./setup05\" \"./setup06\"\n",
      " [7] \"./setup07\" \"./setup08\" \"./setup09\" \"./setup10\" \"./setup11\" \"./setup12\"\n",
      "[13] \"./setup13\" \"./setup14\" \"./setup15\"\n"
     ]
    }
   ],
   "source": [
    "main_dir = paste(\"/content/\", dataset_zip, sep=\"\")\n",
    "setwd(main_dir)\n",
    "folders <- as.vector(list.dirs())\n",
    "folders <- grep('setup', folders, value = TRUE)\n",
    "folders = (folders[!grepl(\"checkpoints\", folders)])\n",
    "print(folders)"
   ]
  },
  {
   "cell_type": "code",
   "execution_count": null,
   "metadata": {
    "colab": {
     "base_uri": "https://localhost:8080/"
    },
    "id": "QMyxm7OlcwNT",
    "outputId": "bc685a38-c0bd-4740-f6c9-67f1ed0f4f0c"
   },
   "outputs": [
    {
     "name": "stdout",
     "output_type": "stream",
     "text": [
      "[1] \"./setup01\"\n",
      "Consider to install these (optional) packages to run all possible Giotto commands for spatial analyses:  scran MAST smfishHmrf trendsceek SPARK multinet RTriangle FactoMiner\n",
      " Giotto does not automatically install all these packages as they are not absolutely required and this reduces the number of dependencies"
     ]
    },
    {
     "name": "stderr",
     "output_type": "stream",
     "text": [
      "Warning message in evaluate_spatial_locations(spatial_locs = spatial_locs, cores = cores, :\n",
      "“\n",
      " spatial locations are not given, dummy 3D data will be created \n",
      "”\n"
     ]
    },
    {
     "name": "stdout",
     "output_type": "stream",
     "text": [
      "Consider to install these (optional) packages to run all possible Giotto commands for spatial analyses:  scran MAST smfishHmrf trendsceek SPARK multinet RTriangle FactoMiner\n",
      " Giotto does not automatically install all these packages as they are not absolutely required and this reduces the number of dependencies"
     ]
    },
    {
     "name": "stderr",
     "output_type": "stream",
     "text": [
      "Warning message in evaluate_spatial_locations(spatial_locs = spatial_locs, cores = cores, :\n",
      "“\n",
      " spatial locations are not given, dummy 3D data will be created \n",
      "”\n"
     ]
    },
    {
     "name": "stdout",
     "output_type": "stream",
     "text": [
      "return_plot = TRUE and return_gobject = TRUE \n",
      "\n",
      "          plot will not be returned to object, but can still be saved with save_plot = TRUE or manually \n",
      "a custom vector of genes will be used to subset the matrix \n"
     ]
    },
    {
     "name": "stderr",
     "output_type": "stream",
     "text": [
      "Warning message in (function (A, nv = 5, nu = nv, maxit = 1000, work = nv + 7, reorth = TRUE, :\n",
      "“You're computing too large a percentage of total singular values, use a standard svd instead.”\n"
     ]
    },
    {
     "name": "stdout",
     "output_type": "stream",
     "text": [
      "[1] \"The 149 overlapped genes between signature matrix and\\nspatial expression profile\"\n",
      "[1] \"./setup02\"\n",
      "Consider to install these (optional) packages to run all possible Giotto commands for spatial analyses:  scran MAST smfishHmrf trendsceek SPARK multinet RTriangle FactoMiner\n",
      " Giotto does not automatically install all these packages as they are not absolutely required and this reduces the number of dependencies"
     ]
    },
    {
     "name": "stderr",
     "output_type": "stream",
     "text": [
      "Warning message in evaluate_spatial_locations(spatial_locs = spatial_locs, cores = cores, :\n",
      "“\n",
      " spatial locations are not given, dummy 3D data will be created \n",
      "”\n"
     ]
    },
    {
     "name": "stdout",
     "output_type": "stream",
     "text": [
      "Consider to install these (optional) packages to run all possible Giotto commands for spatial analyses:  scran MAST smfishHmrf trendsceek SPARK multinet RTriangle FactoMiner\n",
      " Giotto does not automatically install all these packages as they are not absolutely required and this reduces the number of dependencies"
     ]
    },
    {
     "name": "stderr",
     "output_type": "stream",
     "text": [
      "Warning message in evaluate_spatial_locations(spatial_locs = spatial_locs, cores = cores, :\n",
      "“\n",
      " spatial locations are not given, dummy 3D data will be created \n",
      "”\n"
     ]
    },
    {
     "name": "stdout",
     "output_type": "stream",
     "text": [
      "return_plot = TRUE and return_gobject = TRUE \n",
      "\n",
      "          plot will not be returned to object, but can still be saved with save_plot = TRUE or manually \n",
      "a custom vector of genes will be used to subset the matrix \n"
     ]
    },
    {
     "name": "stderr",
     "output_type": "stream",
     "text": [
      "Warning message in (function (A, nv = 5, nu = nv, maxit = 1000, work = nv + 7, reorth = TRUE, :\n",
      "“You're computing too large a percentage of total singular values, use a standard svd instead.”\n"
     ]
    },
    {
     "name": "stdout",
     "output_type": "stream",
     "text": [
      "[1] \"The 149 overlapped genes between signature matrix and\\nspatial expression profile\"\n",
      "[1] \"./setup03\"\n",
      "Consider to install these (optional) packages to run all possible Giotto commands for spatial analyses:  scran MAST smfishHmrf trendsceek SPARK multinet RTriangle FactoMiner\n",
      " Giotto does not automatically install all these packages as they are not absolutely required and this reduces the number of dependencies"
     ]
    },
    {
     "name": "stderr",
     "output_type": "stream",
     "text": [
      "Warning message in evaluate_spatial_locations(spatial_locs = spatial_locs, cores = cores, :\n",
      "“\n",
      " spatial locations are not given, dummy 3D data will be created \n",
      "”\n"
     ]
    },
    {
     "name": "stdout",
     "output_type": "stream",
     "text": [
      "Consider to install these (optional) packages to run all possible Giotto commands for spatial analyses:  scran MAST smfishHmrf trendsceek SPARK multinet RTriangle FactoMiner\n",
      " Giotto does not automatically install all these packages as they are not absolutely required and this reduces the number of dependencies"
     ]
    },
    {
     "name": "stderr",
     "output_type": "stream",
     "text": [
      "Warning message in evaluate_spatial_locations(spatial_locs = spatial_locs, cores = cores, :\n",
      "“\n",
      " spatial locations are not given, dummy 3D data will be created \n",
      "”\n"
     ]
    },
    {
     "name": "stdout",
     "output_type": "stream",
     "text": [
      "return_plot = TRUE and return_gobject = TRUE \n",
      "\n",
      "          plot will not be returned to object, but can still be saved with save_plot = TRUE or manually \n",
      "a custom vector of genes will be used to subset the matrix \n"
     ]
    },
    {
     "name": "stderr",
     "output_type": "stream",
     "text": [
      "Warning message in (function (A, nv = 5, nu = nv, maxit = 1000, work = nv + 7, reorth = TRUE, :\n",
      "“You're computing too large a percentage of total singular values, use a standard svd instead.”\n"
     ]
    },
    {
     "name": "stdout",
     "output_type": "stream",
     "text": [
      "[1] \"The 149 overlapped genes between signature matrix and\\nspatial expression profile\"\n",
      "[1] \"./setup04\"\n",
      "Consider to install these (optional) packages to run all possible Giotto commands for spatial analyses:  scran MAST smfishHmrf trendsceek SPARK multinet RTriangle FactoMiner\n",
      " Giotto does not automatically install all these packages as they are not absolutely required and this reduces the number of dependencies"
     ]
    },
    {
     "name": "stderr",
     "output_type": "stream",
     "text": [
      "Warning message in evaluate_spatial_locations(spatial_locs = spatial_locs, cores = cores, :\n",
      "“\n",
      " spatial locations are not given, dummy 3D data will be created \n",
      "”\n"
     ]
    },
    {
     "name": "stdout",
     "output_type": "stream",
     "text": [
      "Consider to install these (optional) packages to run all possible Giotto commands for spatial analyses:  scran MAST smfishHmrf trendsceek SPARK multinet RTriangle FactoMiner\n",
      " Giotto does not automatically install all these packages as they are not absolutely required and this reduces the number of dependencies"
     ]
    },
    {
     "name": "stderr",
     "output_type": "stream",
     "text": [
      "Warning message in evaluate_spatial_locations(spatial_locs = spatial_locs, cores = cores, :\n",
      "“\n",
      " spatial locations are not given, dummy 3D data will be created \n",
      "”\n"
     ]
    },
    {
     "name": "stdout",
     "output_type": "stream",
     "text": [
      "return_plot = TRUE and return_gobject = TRUE \n",
      "\n",
      "          plot will not be returned to object, but can still be saved with save_plot = TRUE or manually \n",
      "a custom vector of genes will be used to subset the matrix \n"
     ]
    },
    {
     "name": "stderr",
     "output_type": "stream",
     "text": [
      "Warning message in (function (A, nv = 5, nu = nv, maxit = 1000, work = nv + 7, reorth = TRUE, :\n",
      "“You're computing too large a percentage of total singular values, use a standard svd instead.”\n"
     ]
    },
    {
     "name": "stdout",
     "output_type": "stream",
     "text": [
      "[1] \"The 149 overlapped genes between signature matrix and\\nspatial expression profile\"\n",
      "[1] \"./setup05\"\n",
      "Consider to install these (optional) packages to run all possible Giotto commands for spatial analyses:  scran MAST smfishHmrf trendsceek SPARK multinet RTriangle FactoMiner\n",
      " Giotto does not automatically install all these packages as they are not absolutely required and this reduces the number of dependencies"
     ]
    },
    {
     "name": "stderr",
     "output_type": "stream",
     "text": [
      "Warning message in evaluate_spatial_locations(spatial_locs = spatial_locs, cores = cores, :\n",
      "“\n",
      " spatial locations are not given, dummy 3D data will be created \n",
      "”\n"
     ]
    },
    {
     "name": "stdout",
     "output_type": "stream",
     "text": [
      "Consider to install these (optional) packages to run all possible Giotto commands for spatial analyses:  scran MAST smfishHmrf trendsceek SPARK multinet RTriangle FactoMiner\n",
      " Giotto does not automatically install all these packages as they are not absolutely required and this reduces the number of dependencies"
     ]
    },
    {
     "name": "stderr",
     "output_type": "stream",
     "text": [
      "Warning message in evaluate_spatial_locations(spatial_locs = spatial_locs, cores = cores, :\n",
      "“\n",
      " spatial locations are not given, dummy 3D data will be created \n",
      "”\n"
     ]
    },
    {
     "name": "stdout",
     "output_type": "stream",
     "text": [
      "return_plot = TRUE and return_gobject = TRUE \n",
      "\n",
      "          plot will not be returned to object, but can still be saved with save_plot = TRUE or manually \n",
      "a custom vector of genes will be used to subset the matrix \n"
     ]
    },
    {
     "name": "stderr",
     "output_type": "stream",
     "text": [
      "Warning message in (function (A, nv = 5, nu = nv, maxit = 1000, work = nv + 7, reorth = TRUE, :\n",
      "“You're computing too large a percentage of total singular values, use a standard svd instead.”\n"
     ]
    },
    {
     "name": "stdout",
     "output_type": "stream",
     "text": [
      "[1] \"The 149 overlapped genes between signature matrix and\\nspatial expression profile\"\n",
      "[1] \"./setup06\"\n",
      "Consider to install these (optional) packages to run all possible Giotto commands for spatial analyses:  scran MAST smfishHmrf trendsceek SPARK multinet RTriangle FactoMiner\n",
      " Giotto does not automatically install all these packages as they are not absolutely required and this reduces the number of dependencies"
     ]
    },
    {
     "name": "stderr",
     "output_type": "stream",
     "text": [
      "Warning message in evaluate_spatial_locations(spatial_locs = spatial_locs, cores = cores, :\n",
      "“\n",
      " spatial locations are not given, dummy 3D data will be created \n",
      "”\n"
     ]
    },
    {
     "name": "stdout",
     "output_type": "stream",
     "text": [
      "Consider to install these (optional) packages to run all possible Giotto commands for spatial analyses:  scran MAST smfishHmrf trendsceek SPARK multinet RTriangle FactoMiner\n",
      " Giotto does not automatically install all these packages as they are not absolutely required and this reduces the number of dependencies"
     ]
    },
    {
     "name": "stderr",
     "output_type": "stream",
     "text": [
      "Warning message in evaluate_spatial_locations(spatial_locs = spatial_locs, cores = cores, :\n",
      "“\n",
      " spatial locations are not given, dummy 3D data will be created \n",
      "”\n"
     ]
    },
    {
     "name": "stdout",
     "output_type": "stream",
     "text": [
      "return_plot = TRUE and return_gobject = TRUE \n",
      "\n",
      "          plot will not be returned to object, but can still be saved with save_plot = TRUE or manually \n",
      "a custom vector of genes will be used to subset the matrix \n"
     ]
    },
    {
     "name": "stderr",
     "output_type": "stream",
     "text": [
      "Warning message in (function (A, nv = 5, nu = nv, maxit = 1000, work = nv + 7, reorth = TRUE, :\n",
      "“You're computing too large a percentage of total singular values, use a standard svd instead.”\n"
     ]
    },
    {
     "name": "stdout",
     "output_type": "stream",
     "text": [
      "[1] \"The 149 overlapped genes between signature matrix and\\nspatial expression profile\"\n",
      "[1] \"./setup07\"\n",
      "Consider to install these (optional) packages to run all possible Giotto commands for spatial analyses:  scran MAST smfishHmrf trendsceek SPARK multinet RTriangle FactoMiner\n",
      " Giotto does not automatically install all these packages as they are not absolutely required and this reduces the number of dependencies"
     ]
    },
    {
     "name": "stderr",
     "output_type": "stream",
     "text": [
      "Warning message in evaluate_spatial_locations(spatial_locs = spatial_locs, cores = cores, :\n",
      "“\n",
      " spatial locations are not given, dummy 3D data will be created \n",
      "”\n"
     ]
    },
    {
     "name": "stdout",
     "output_type": "stream",
     "text": [
      "Consider to install these (optional) packages to run all possible Giotto commands for spatial analyses:  scran MAST smfishHmrf trendsceek SPARK multinet RTriangle FactoMiner\n",
      " Giotto does not automatically install all these packages as they are not absolutely required and this reduces the number of dependencies"
     ]
    },
    {
     "name": "stderr",
     "output_type": "stream",
     "text": [
      "Warning message in evaluate_spatial_locations(spatial_locs = spatial_locs, cores = cores, :\n",
      "“\n",
      " spatial locations are not given, dummy 3D data will be created \n",
      "”\n"
     ]
    },
    {
     "name": "stdout",
     "output_type": "stream",
     "text": [
      "return_plot = TRUE and return_gobject = TRUE \n",
      "\n",
      "          plot will not be returned to object, but can still be saved with save_plot = TRUE or manually \n",
      "a custom vector of genes will be used to subset the matrix \n"
     ]
    },
    {
     "name": "stderr",
     "output_type": "stream",
     "text": [
      "Warning message in (function (A, nv = 5, nu = nv, maxit = 1000, work = nv + 7, reorth = TRUE, :\n",
      "“You're computing too large a percentage of total singular values, use a standard svd instead.”\n"
     ]
    },
    {
     "name": "stdout",
     "output_type": "stream",
     "text": [
      "[1] \"The 149 overlapped genes between signature matrix and\\nspatial expression profile\"\n",
      "[1] \"./setup08\"\n",
      "Consider to install these (optional) packages to run all possible Giotto commands for spatial analyses:  scran MAST smfishHmrf trendsceek SPARK multinet RTriangle FactoMiner\n",
      " Giotto does not automatically install all these packages as they are not absolutely required and this reduces the number of dependencies"
     ]
    },
    {
     "name": "stderr",
     "output_type": "stream",
     "text": [
      "Warning message in evaluate_spatial_locations(spatial_locs = spatial_locs, cores = cores, :\n",
      "“\n",
      " spatial locations are not given, dummy 3D data will be created \n",
      "”\n"
     ]
    },
    {
     "name": "stdout",
     "output_type": "stream",
     "text": [
      "Consider to install these (optional) packages to run all possible Giotto commands for spatial analyses:  scran MAST smfishHmrf trendsceek SPARK multinet RTriangle FactoMiner\n",
      " Giotto does not automatically install all these packages as they are not absolutely required and this reduces the number of dependencies"
     ]
    },
    {
     "name": "stderr",
     "output_type": "stream",
     "text": [
      "Warning message in evaluate_spatial_locations(spatial_locs = spatial_locs, cores = cores, :\n",
      "“\n",
      " spatial locations are not given, dummy 3D data will be created \n",
      "”\n"
     ]
    },
    {
     "name": "stdout",
     "output_type": "stream",
     "text": [
      "return_plot = TRUE and return_gobject = TRUE \n",
      "\n",
      "          plot will not be returned to object, but can still be saved with save_plot = TRUE or manually \n",
      "a custom vector of genes will be used to subset the matrix \n"
     ]
    },
    {
     "name": "stderr",
     "output_type": "stream",
     "text": [
      "Warning message in (function (A, nv = 5, nu = nv, maxit = 1000, work = nv + 7, reorth = TRUE, :\n",
      "“You're computing too large a percentage of total singular values, use a standard svd instead.”\n"
     ]
    },
    {
     "name": "stdout",
     "output_type": "stream",
     "text": [
      "[1] \"The 149 overlapped genes between signature matrix and\\nspatial expression profile\"\n",
      "[1] \"./setup09\"\n",
      "Consider to install these (optional) packages to run all possible Giotto commands for spatial analyses:  scran MAST smfishHmrf trendsceek SPARK multinet RTriangle FactoMiner\n",
      " Giotto does not automatically install all these packages as they are not absolutely required and this reduces the number of dependencies"
     ]
    },
    {
     "name": "stderr",
     "output_type": "stream",
     "text": [
      "Warning message in evaluate_spatial_locations(spatial_locs = spatial_locs, cores = cores, :\n",
      "“\n",
      " spatial locations are not given, dummy 3D data will be created \n",
      "”\n"
     ]
    },
    {
     "name": "stdout",
     "output_type": "stream",
     "text": [
      "Consider to install these (optional) packages to run all possible Giotto commands for spatial analyses:  scran MAST smfishHmrf trendsceek SPARK multinet RTriangle FactoMiner\n",
      " Giotto does not automatically install all these packages as they are not absolutely required and this reduces the number of dependencies"
     ]
    },
    {
     "name": "stderr",
     "output_type": "stream",
     "text": [
      "Warning message in evaluate_spatial_locations(spatial_locs = spatial_locs, cores = cores, :\n",
      "“\n",
      " spatial locations are not given, dummy 3D data will be created \n",
      "”\n"
     ]
    },
    {
     "name": "stdout",
     "output_type": "stream",
     "text": [
      "return_plot = TRUE and return_gobject = TRUE \n",
      "\n",
      "          plot will not be returned to object, but can still be saved with save_plot = TRUE or manually \n",
      "a custom vector of genes will be used to subset the matrix \n"
     ]
    },
    {
     "name": "stderr",
     "output_type": "stream",
     "text": [
      "Warning message in (function (A, nv = 5, nu = nv, maxit = 1000, work = nv + 7, reorth = TRUE, :\n",
      "“You're computing too large a percentage of total singular values, use a standard svd instead.”\n"
     ]
    },
    {
     "name": "stdout",
     "output_type": "stream",
     "text": [
      "[1] \"The 149 overlapped genes between signature matrix and\\nspatial expression profile\"\n",
      "[1] \"./setup10\"\n",
      "Consider to install these (optional) packages to run all possible Giotto commands for spatial analyses:  scran MAST smfishHmrf trendsceek SPARK multinet RTriangle FactoMiner\n",
      " Giotto does not automatically install all these packages as they are not absolutely required and this reduces the number of dependencies"
     ]
    },
    {
     "name": "stderr",
     "output_type": "stream",
     "text": [
      "Warning message in evaluate_spatial_locations(spatial_locs = spatial_locs, cores = cores, :\n",
      "“\n",
      " spatial locations are not given, dummy 3D data will be created \n",
      "”\n"
     ]
    },
    {
     "name": "stdout",
     "output_type": "stream",
     "text": [
      "Consider to install these (optional) packages to run all possible Giotto commands for spatial analyses:  scran MAST smfishHmrf trendsceek SPARK multinet RTriangle FactoMiner\n",
      " Giotto does not automatically install all these packages as they are not absolutely required and this reduces the number of dependencies"
     ]
    },
    {
     "name": "stderr",
     "output_type": "stream",
     "text": [
      "Warning message in evaluate_spatial_locations(spatial_locs = spatial_locs, cores = cores, :\n",
      "“\n",
      " spatial locations are not given, dummy 3D data will be created \n",
      "”\n"
     ]
    },
    {
     "name": "stdout",
     "output_type": "stream",
     "text": [
      "return_plot = TRUE and return_gobject = TRUE \n",
      "\n",
      "          plot will not be returned to object, but can still be saved with save_plot = TRUE or manually \n",
      "a custom vector of genes will be used to subset the matrix \n"
     ]
    },
    {
     "name": "stderr",
     "output_type": "stream",
     "text": [
      "Warning message in (function (A, nv = 5, nu = nv, maxit = 1000, work = nv + 7, reorth = TRUE, :\n",
      "“You're computing too large a percentage of total singular values, use a standard svd instead.”\n"
     ]
    },
    {
     "name": "stdout",
     "output_type": "stream",
     "text": [
      "[1] \"The 149 overlapped genes between signature matrix and\\nspatial expression profile\"\n",
      "[1] \"./setup11\"\n",
      "Consider to install these (optional) packages to run all possible Giotto commands for spatial analyses:  scran MAST smfishHmrf trendsceek SPARK multinet RTriangle FactoMiner\n",
      " Giotto does not automatically install all these packages as they are not absolutely required and this reduces the number of dependencies"
     ]
    },
    {
     "name": "stderr",
     "output_type": "stream",
     "text": [
      "Warning message in evaluate_spatial_locations(spatial_locs = spatial_locs, cores = cores, :\n",
      "“\n",
      " spatial locations are not given, dummy 3D data will be created \n",
      "”\n"
     ]
    },
    {
     "name": "stdout",
     "output_type": "stream",
     "text": [
      "Consider to install these (optional) packages to run all possible Giotto commands for spatial analyses:  scran MAST smfishHmrf trendsceek SPARK multinet RTriangle FactoMiner\n",
      " Giotto does not automatically install all these packages as they are not absolutely required and this reduces the number of dependencies"
     ]
    },
    {
     "name": "stderr",
     "output_type": "stream",
     "text": [
      "Warning message in evaluate_spatial_locations(spatial_locs = spatial_locs, cores = cores, :\n",
      "“\n",
      " spatial locations are not given, dummy 3D data will be created \n",
      "”\n"
     ]
    },
    {
     "name": "stdout",
     "output_type": "stream",
     "text": [
      "return_plot = TRUE and return_gobject = TRUE \n",
      "\n",
      "          plot will not be returned to object, but can still be saved with save_plot = TRUE or manually \n",
      "a custom vector of genes will be used to subset the matrix \n"
     ]
    },
    {
     "name": "stderr",
     "output_type": "stream",
     "text": [
      "Warning message in (function (A, nv = 5, nu = nv, maxit = 1000, work = nv + 7, reorth = TRUE, :\n",
      "“You're computing too large a percentage of total singular values, use a standard svd instead.”\n"
     ]
    },
    {
     "name": "stdout",
     "output_type": "stream",
     "text": [
      "[1] \"The 149 overlapped genes between signature matrix and\\nspatial expression profile\"\n",
      "[1] \"./setup12\"\n",
      "Consider to install these (optional) packages to run all possible Giotto commands for spatial analyses:  scran MAST smfishHmrf trendsceek SPARK multinet RTriangle FactoMiner\n",
      " Giotto does not automatically install all these packages as they are not absolutely required and this reduces the number of dependencies"
     ]
    },
    {
     "name": "stderr",
     "output_type": "stream",
     "text": [
      "Warning message in evaluate_spatial_locations(spatial_locs = spatial_locs, cores = cores, :\n",
      "“\n",
      " spatial locations are not given, dummy 3D data will be created \n",
      "”\n"
     ]
    },
    {
     "name": "stdout",
     "output_type": "stream",
     "text": [
      "Consider to install these (optional) packages to run all possible Giotto commands for spatial analyses:  scran MAST smfishHmrf trendsceek SPARK multinet RTriangle FactoMiner\n",
      " Giotto does not automatically install all these packages as they are not absolutely required and this reduces the number of dependencies"
     ]
    },
    {
     "name": "stderr",
     "output_type": "stream",
     "text": [
      "Warning message in evaluate_spatial_locations(spatial_locs = spatial_locs, cores = cores, :\n",
      "“\n",
      " spatial locations are not given, dummy 3D data will be created \n",
      "”\n"
     ]
    },
    {
     "name": "stdout",
     "output_type": "stream",
     "text": [
      "return_plot = TRUE and return_gobject = TRUE \n",
      "\n",
      "          plot will not be returned to object, but can still be saved with save_plot = TRUE or manually \n",
      "a custom vector of genes will be used to subset the matrix \n"
     ]
    },
    {
     "name": "stderr",
     "output_type": "stream",
     "text": [
      "Warning message in (function (A, nv = 5, nu = nv, maxit = 1000, work = nv + 7, reorth = TRUE, :\n",
      "“You're computing too large a percentage of total singular values, use a standard svd instead.”\n"
     ]
    },
    {
     "name": "stdout",
     "output_type": "stream",
     "text": [
      "[1] \"The 149 overlapped genes between signature matrix and\\nspatial expression profile\"\n",
      "[1] \"./setup13\"\n",
      "Consider to install these (optional) packages to run all possible Giotto commands for spatial analyses:  scran MAST smfishHmrf trendsceek SPARK multinet RTriangle FactoMiner\n",
      " Giotto does not automatically install all these packages as they are not absolutely required and this reduces the number of dependencies"
     ]
    },
    {
     "name": "stderr",
     "output_type": "stream",
     "text": [
      "Warning message in evaluate_spatial_locations(spatial_locs = spatial_locs, cores = cores, :\n",
      "“\n",
      " spatial locations are not given, dummy 3D data will be created \n",
      "”\n"
     ]
    },
    {
     "name": "stdout",
     "output_type": "stream",
     "text": [
      "Consider to install these (optional) packages to run all possible Giotto commands for spatial analyses:  scran MAST smfishHmrf trendsceek SPARK multinet RTriangle FactoMiner\n",
      " Giotto does not automatically install all these packages as they are not absolutely required and this reduces the number of dependencies"
     ]
    },
    {
     "name": "stderr",
     "output_type": "stream",
     "text": [
      "Warning message in evaluate_spatial_locations(spatial_locs = spatial_locs, cores = cores, :\n",
      "“\n",
      " spatial locations are not given, dummy 3D data will be created \n",
      "”\n"
     ]
    },
    {
     "name": "stdout",
     "output_type": "stream",
     "text": [
      "return_plot = TRUE and return_gobject = TRUE \n",
      "\n",
      "          plot will not be returned to object, but can still be saved with save_plot = TRUE or manually \n",
      "a custom vector of genes will be used to subset the matrix \n"
     ]
    },
    {
     "name": "stderr",
     "output_type": "stream",
     "text": [
      "Warning message in (function (A, nv = 5, nu = nv, maxit = 1000, work = nv + 7, reorth = TRUE, :\n",
      "“You're computing too large a percentage of total singular values, use a standard svd instead.”\n"
     ]
    },
    {
     "name": "stdout",
     "output_type": "stream",
     "text": [
      "[1] \"The 149 overlapped genes between signature matrix and\\nspatial expression profile\"\n",
      "[1] \"./setup14\"\n",
      "Consider to install these (optional) packages to run all possible Giotto commands for spatial analyses:  scran MAST smfishHmrf trendsceek SPARK multinet RTriangle FactoMiner\n",
      " Giotto does not automatically install all these packages as they are not absolutely required and this reduces the number of dependencies"
     ]
    },
    {
     "name": "stderr",
     "output_type": "stream",
     "text": [
      "Warning message in evaluate_spatial_locations(spatial_locs = spatial_locs, cores = cores, :\n",
      "“\n",
      " spatial locations are not given, dummy 3D data will be created \n",
      "”\n"
     ]
    },
    {
     "name": "stdout",
     "output_type": "stream",
     "text": [
      "Consider to install these (optional) packages to run all possible Giotto commands for spatial analyses:  scran MAST smfishHmrf trendsceek SPARK multinet RTriangle FactoMiner\n",
      " Giotto does not automatically install all these packages as they are not absolutely required and this reduces the number of dependencies"
     ]
    },
    {
     "name": "stderr",
     "output_type": "stream",
     "text": [
      "Warning message in evaluate_spatial_locations(spatial_locs = spatial_locs, cores = cores, :\n",
      "“\n",
      " spatial locations are not given, dummy 3D data will be created \n",
      "”\n"
     ]
    },
    {
     "name": "stdout",
     "output_type": "stream",
     "text": [
      "return_plot = TRUE and return_gobject = TRUE \n",
      "\n",
      "          plot will not be returned to object, but can still be saved with save_plot = TRUE or manually \n",
      "a custom vector of genes will be used to subset the matrix \n"
     ]
    },
    {
     "name": "stderr",
     "output_type": "stream",
     "text": [
      "Warning message in (function (A, nv = 5, nu = nv, maxit = 1000, work = nv + 7, reorth = TRUE, :\n",
      "“You're computing too large a percentage of total singular values, use a standard svd instead.”\n"
     ]
    },
    {
     "name": "stdout",
     "output_type": "stream",
     "text": [
      "[1] \"The 149 overlapped genes between signature matrix and\\nspatial expression profile\"\n",
      "[1] \"./setup15\"\n",
      "Consider to install these (optional) packages to run all possible Giotto commands for spatial analyses:  scran MAST smfishHmrf trendsceek SPARK multinet RTriangle FactoMiner\n",
      " Giotto does not automatically install all these packages as they are not absolutely required and this reduces the number of dependencies"
     ]
    },
    {
     "name": "stderr",
     "output_type": "stream",
     "text": [
      "Warning message in evaluate_spatial_locations(spatial_locs = spatial_locs, cores = cores, :\n",
      "“\n",
      " spatial locations are not given, dummy 3D data will be created \n",
      "”\n"
     ]
    },
    {
     "name": "stdout",
     "output_type": "stream",
     "text": [
      "Consider to install these (optional) packages to run all possible Giotto commands for spatial analyses:  scran MAST smfishHmrf trendsceek SPARK multinet RTriangle FactoMiner\n",
      " Giotto does not automatically install all these packages as they are not absolutely required and this reduces the number of dependencies"
     ]
    },
    {
     "name": "stderr",
     "output_type": "stream",
     "text": [
      "Warning message in evaluate_spatial_locations(spatial_locs = spatial_locs, cores = cores, :\n",
      "“\n",
      " spatial locations are not given, dummy 3D data will be created \n",
      "”\n"
     ]
    },
    {
     "name": "stdout",
     "output_type": "stream",
     "text": [
      "return_plot = TRUE and return_gobject = TRUE \n",
      "\n",
      "          plot will not be returned to object, but can still be saved with save_plot = TRUE or manually \n",
      "a custom vector of genes will be used to subset the matrix \n"
     ]
    },
    {
     "name": "stderr",
     "output_type": "stream",
     "text": [
      "Warning message in (function (A, nv = 5, nu = nv, maxit = 1000, work = nv + 7, reorth = TRUE, :\n",
      "“You're computing too large a percentage of total singular values, use a standard svd instead.”\n"
     ]
    },
    {
     "name": "stdout",
     "output_type": "stream",
     "text": [
      "[1] \"The 149 overlapped genes between signature matrix and\\nspatial expression profile\"\n"
     ]
    }
   ],
   "source": [
    "    for (sub_dir in folders) {\n",
    "    print(sub_dir)\n",
    "    setwd(paste(main_dir, sub_dir, sep=\"/\"))\n",
    "    \n",
    "    # simulating scRNAseq, but giving true lambda instead, so one type has one cell\n",
    "    sc_matrix<-read.csv(\"TRUE_lambda.csv\", row.names = 1, header= TRUE)\n",
    "    # data frame with col containing vector with single cell labels\n",
    "    sc_lable = as.data.frame(colnames(read.csv(\"TRUE_lambda.csv\", row.names = 1, header= TRUE)))\n",
    "    colnames(sc_lable) = 'single_cell_labels'\n",
    "\n",
    "    sc_cortex <- createGiottoObject(raw_exprs = sc_matrix, instructions = instrs)\n",
    "    sc_cortex <- normalizeGiotto(gobject = sc_cortex)\n",
    "    # using single cell labels as leiden cluster like in the https://github.com/rdong08/spatialDWLS_dataset/blob/main/codes/seqFISH_plus_deconvolution.Rmd\n",
    "    sc_cortex@cell_metadata$leiden_clus<-as.character(sc_lable$single_cell_labels)\n",
    "\n",
    "    Sig = as.matrix(read.csv(\"TRUE_lambda.csv\", row.names = 1, header= TRUE))\n",
    "\n",
    "    grid_exp = read.csv(\"C_gs.csv\", row.names = 1, header= TRUE)\n",
    "    grid_seqFish <- createGiottoObject(raw_exprs = grid_exp, instructions = instrs)\n",
    "    grid_seqFish <- normalizeGiotto(gobject = grid_seqFish)\n",
    "    grid_seqFish <- calculateHVG(gobject = grid_seqFish)\n",
    "    gene_metadata = fDataDT(grid_seqFish)\n",
    "    gene_metadata$hvg = 'yes'\n",
    "\n",
    "    featgenes = gene_metadata[hvg == 'yes']$gene_ID\n",
    "    grid_seqFish <- runPCA(gobject = grid_seqFish, genes_to_use = featgenes, scale_unit = F)\n",
    "    grid_seqFish <- createNearestNetwork(gobject = grid_seqFish, dimensions_to_use = 1:10, k = length(colnames(sc_matrix)))\n",
    "    grid_seqFish <- doLeidenCluster(gobject = grid_seqFish, resolution = 0.4, n_iterations = 1000)\n",
    "    grid_seqFish<-runDWLSDeconv(gobject = grid_seqFish, sign_matrix = Sig)\n",
    "    \n",
    "    res_df = grid_seqFish@spatial_enrichment$DWLS\n",
    "    rownames(res_df) = res_df$cell_ID\n",
    "    res_df = res_df[,-c(1)]\n",
    "    write.csv(res_df, file=paste(sub_dir, \"csv\", sep=\".\"))\n",
    "}"
   ]
  },
  {
   "cell_type": "code",
   "execution_count": null,
   "metadata": {
    "id": "fDUtkEjx2O0E"
   },
   "outputs": [],
   "source": [
    "setwd(\"/content\")\n",
    "zip('dense.zip', 'dense')"
   ]
  },
  {
   "cell_type": "code",
   "execution_count": null,
   "metadata": {
    "id": "Jcxwo-WY6bre"
   },
   "outputs": [],
   "source": []
  },
  {
   "cell_type": "code",
   "execution_count": null,
   "metadata": {
    "id": "mnQl-aPwoIhK"
   },
   "outputs": [],
   "source": []
  },
  {
   "cell_type": "code",
   "execution_count": null,
   "metadata": {
    "id": "sCKscFwgoIcP"
   },
   "outputs": [],
   "source": []
  },
  {
   "cell_type": "code",
   "execution_count": null,
   "metadata": {
    "id": "79rGE2IL2gBp"
   },
   "outputs": [],
   "source": []
  },
  {
   "cell_type": "code",
   "execution_count": null,
   "metadata": {
    "id": "5vwbFWQF68XL"
   },
   "outputs": [],
   "source": []
  },
  {
   "cell_type": "code",
   "execution_count": null,
   "metadata": {
    "id": "IhF4BoMn6cMS"
   },
   "outputs": [],
   "source": []
  },
  {
   "cell_type": "code",
   "execution_count": null,
   "metadata": {
    "id": "vTyCHxo3oIey"
   },
   "outputs": [],
   "source": []
  },
  {
   "cell_type": "code",
   "execution_count": null,
   "metadata": {
    "id": "mnSQ15BO2Kzi"
   },
   "outputs": [],
   "source": []
  },
  {
   "cell_type": "code",
   "execution_count": null,
   "metadata": {
    "id": "e_LlGd60ctFB"
   },
   "outputs": [],
   "source": []
  },
  {
   "cell_type": "code",
   "execution_count": null,
   "metadata": {
    "id": "fX8pmYaxb2jc"
   },
   "outputs": [],
   "source": []
  },
  {
   "cell_type": "code",
   "execution_count": null,
   "metadata": {
    "id": "Chf6AT6K08hh"
   },
   "outputs": [],
   "source": []
  },
  {
   "cell_type": "code",
   "execution_count": null,
   "metadata": {
    "id": "nGHWKGzeb2xe"
   },
   "outputs": [],
   "source": []
  },
  {
   "cell_type": "code",
   "execution_count": null,
   "metadata": {
    "id": "M-4vSjz8b25i"
   },
   "outputs": [],
   "source": []
  },
  {
   "cell_type": "code",
   "execution_count": null,
   "metadata": {
    "id": "-fQhRl2Xb28Z"
   },
   "outputs": [],
   "source": []
  },
  {
   "cell_type": "code",
   "execution_count": null,
   "metadata": {
    "id": "QHGnk5NOb2_h"
   },
   "outputs": [],
   "source": []
  },
  {
   "cell_type": "code",
   "execution_count": null,
   "metadata": {
    "id": "N3-OdHyap2Tf"
   },
   "outputs": [],
   "source": []
  },
  {
   "cell_type": "code",
   "execution_count": null,
   "metadata": {
    "id": "k-lanR3dp2Vy"
   },
   "outputs": [],
   "source": []
  },
  {
   "cell_type": "code",
   "execution_count": null,
   "metadata": {
    "id": "9QwtIG_G4Dzy"
   },
   "outputs": [],
   "source": []
  },
  {
   "cell_type": "code",
   "execution_count": null,
   "metadata": {
    "id": "upHcF1jPqulf"
   },
   "outputs": [],
   "source": []
  },
  {
   "cell_type": "code",
   "execution_count": null,
   "metadata": {
    "id": "mCmwj9nn1t1k"
   },
   "outputs": [],
   "source": []
  },
  {
   "cell_type": "code",
   "execution_count": null,
   "metadata": {
    "id": "B0mkXq_whnPB"
   },
   "outputs": [],
   "source": []
  },
  {
   "cell_type": "code",
   "execution_count": null,
   "metadata": {
    "id": "Uy35lSQ1gPB9"
   },
   "outputs": [],
   "source": []
  },
  {
   "cell_type": "code",
   "execution_count": null,
   "metadata": {
    "id": "2whfJWEjgniC"
   },
   "outputs": [],
   "source": []
  },
  {
   "cell_type": "code",
   "execution_count": null,
   "metadata": {
    "id": "sU6NmqvlVAyS"
   },
   "outputs": [],
   "source": []
  },
  {
   "cell_type": "code",
   "execution_count": null,
   "metadata": {
    "id": "ZEDcEmiYXtB7"
   },
   "outputs": [],
   "source": []
  },
  {
   "cell_type": "code",
   "execution_count": null,
   "metadata": {
    "id": "XgLQIvRKXw_P"
   },
   "outputs": [],
   "source": []
  },
  {
   "cell_type": "code",
   "execution_count": null,
   "metadata": {
    "id": "l92mZ94MdX6m"
   },
   "outputs": [],
   "source": []
  }
 ],
 "metadata": {
  "colab": {
   "collapsed_sections": [],
   "provenance": []
  },
  "kernelspec": {
   "display_name": "R",
   "name": "ir"
  },
  "language_info": {
   "name": "R"
  }
 },
 "nbformat": 4,
 "nbformat_minor": 4
}
