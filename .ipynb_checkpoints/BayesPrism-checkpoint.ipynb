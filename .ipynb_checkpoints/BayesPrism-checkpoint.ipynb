{
 "cells": [
  {
   "cell_type": "code",
   "execution_count": null,
   "metadata": {
    "colab": {
     "base_uri": "https://localhost:8080/"
    },
    "id": "Ly8t96wwfxUW",
    "outputId": "ed72c735-25cf-483f-d3c7-34843f3be9ca"
   },
   "outputs": [
    {
     "name": "stderr",
     "output_type": "stream",
     "text": [
      "Loading required package: usethis\n",
      "\n",
      "Downloading GitHub repo Danko-Lab/BayesPrism@HEAD\n",
      "\n"
     ]
    },
    {
     "name": "stdout",
     "output_type": "stream",
     "text": [
      "formatR      (NA    -> 1.12    ) [CRAN]\n",
      "futile.op... (NA    -> 1.0.1   ) [CRAN]\n",
      "lambda.r     (NA    -> 1.2.4   ) [CRAN]\n",
      "matrixStats  (NA    -> 0.62.0  ) [CRAN]\n",
      "IRanges      (NA    -> 2.30.1  ) [CRAN]\n",
      "S4Vectors    (NA    -> 0.34.0  ) [CRAN]\n",
      "MatrixGen... (NA    -> 1.8.1   ) [CRAN]\n",
      "Rcpp         (NA    -> 1.0.9   ) [CRAN]\n",
      "BiocGenerics (NA    -> 0.42.0  ) [CRAN]\n",
      "DelayedArray (NA    -> 0.22.0  ) [CRAN]\n",
      "sitmo        (NA    -> 2.0.2   ) [CRAN]\n",
      "BH           (NA    -> 1.78.0-0) [CRAN]\n",
      "snow         (NA    -> 0.4-4   ) [CRAN]\n",
      "futile.lo... (NA    -> 1.4.3   ) [CRAN]\n",
      "RcppHNSW     (NA    -> 0.4.1   ) [CRAN]\n",
      "BiocNeigh... (NA    -> 1.14.0  ) [CRAN]\n",
      "BiocParallel (NA    -> 1.30.4  ) [CRAN]\n",
      "igraph       (NA    -> 1.3.5   ) [CRAN]\n",
      "beachmat     (NA    -> 2.12.0  ) [CRAN]\n",
      "rsvd         (NA    -> 1.0.5   ) [CRAN]\n",
      "irlba        (NA    -> 2.3.5.1 ) [CRAN]\n",
      "ScaledMatrix (NA    -> 1.4.1   ) [CRAN]\n",
      "sparseMat... (NA    -> 1.8.0   ) [CRAN]\n",
      "locfit       (NA    -> 1.5-9.6 ) [CRAN]\n",
      "limma        (NA    -> 3.52.4  ) [CRAN]\n",
      "zlibbioc     (NA    -> 1.42.0  ) [CRAN]\n",
      "bitops       (NA    -> 1.0-7   ) [CRAN]\n",
      "XVector      (NA    -> 0.36.0  ) [CRAN]\n",
      "GenomeInf... (NA    -> 1.2.8   ) [CRAN]\n",
      "RCurl        (NA    -> 1.98-1.9) [CRAN]\n",
      "GenomeInfoDb (NA    -> 1.32.4  ) [CRAN]\n",
      "Biobase      (NA    -> 2.56.0  ) [CRAN]\n",
      "GenomicRa... (NA    -> 1.48.0  ) [CRAN]\n",
      "DelayedMa... (NA    -> 1.18.1  ) [CRAN]\n",
      "Summarize... (NA    -> 1.26.1  ) [CRAN]\n",
      "SingleCel... (NA    -> 1.18.1  ) [CRAN]\n",
      "plyr         (NA    -> 1.8.7   ) [CRAN]\n",
      "lifecycle    (1.0.2 -> 1.0.3   ) [CRAN]\n",
      "tibble       (3.1.7 -> 3.1.8   ) [CRAN]\n",
      "isoband      (0.2.5 -> 0.2.6   ) [CRAN]\n",
      "iterators    (NA    -> 1.0.14  ) [CRAN]\n",
      "foreach      (NA    -> 1.5.2   ) [CRAN]\n",
      "xtable       (NA    -> 1.8-4   ) [CRAN]\n",
      "registry     (NA    -> 0.5-1   ) [CRAN]\n",
      "dqrng        (NA    -> 0.3.0   ) [CRAN]\n",
      "metapod      (NA    -> 1.4.0   ) [CRAN]\n",
      "bluster      (NA    -> 1.6.0   ) [CRAN]\n",
      "BiocSingular (NA    -> 1.12.0  ) [CRAN]\n",
      "statmod      (NA    -> 1.4.37  ) [CRAN]\n",
      "edgeR        (NA    -> 3.38.4  ) [CRAN]\n",
      "scuttle      (NA    -> 1.6.3   ) [CRAN]\n",
      "caTools      (NA    -> 1.18.2  ) [CRAN]\n",
      "gtools       (NA    -> 3.9.3   ) [CRAN]\n",
      "BiocManager  (NA    -> 1.30.18 ) [CRAN]\n",
      "reshape2     (NA    -> 1.4.4   ) [CRAN]\n",
      "doParallel   (NA    -> 1.0.17  ) [CRAN]\n",
      "gridBase     (NA    -> 0.4-7   ) [CRAN]\n",
      "rngtools     (NA    -> 1.5.2   ) [CRAN]\n",
      "pkgmaker     (NA    -> 0.32.2  ) [CRAN]\n",
      "scran        (NA    -> 1.24.1  ) [CRAN]\n",
      "gplots       (NA    -> 3.1.3   ) [CRAN]\n",
      "NMF          (NA    -> 0.24.0  ) [CRAN]\n",
      "snowfall     (NA    -> 1.84-6.2) [CRAN]\n"
     ]
    },
    {
     "name": "stderr",
     "output_type": "stream",
     "text": [
      "Installing 63 packages: formatR, futile.options, lambda.r, matrixStats, IRanges, S4Vectors, MatrixGenerics, Rcpp, BiocGenerics, DelayedArray, sitmo, BH, snow, futile.logger, RcppHNSW, BiocNeighbors, BiocParallel, igraph, beachmat, rsvd, irlba, ScaledMatrix, sparseMatrixStats, locfit, limma, zlibbioc, bitops, XVector, GenomeInfoDbData, RCurl, GenomeInfoDb, Biobase, GenomicRanges, DelayedMatrixStats, SummarizedExperiment, SingleCellExperiment, plyr, lifecycle, tibble, isoband, iterators, foreach, xtable, registry, dqrng, metapod, bluster, BiocSingular, statmod, edgeR, scuttle, caTools, gtools, BiocManager, reshape2, doParallel, gridBase, rngtools, pkgmaker, scran, gplots, NMF, snowfall\n",
      "\n",
      "Installing packages into ‘/usr/local/lib/R/site-library’\n",
      "(as ‘lib’ is unspecified)\n",
      "\n"
     ]
    },
    {
     "name": "stdout",
     "output_type": "stream",
     "text": [
      "* checking for file ‘/tmp/RtmpCvIKY8/remotes8a57d80f4/Danko-Lab-BayesPrism-3b28f47/BayesPrism/DESCRIPTION’ ... OK\n",
      "* preparing ‘BayesPrism’:\n",
      "* checking DESCRIPTION meta-information ... OK\n",
      "* checking for LF line-endings in source and make files and shell scripts\n",
      "* checking for empty or unneeded directories\n",
      "* building ‘BayesPrism_2.0.tar.gz’\n",
      "\n"
     ]
    },
    {
     "name": "stderr",
     "output_type": "stream",
     "text": [
      "Installing package into ‘/usr/local/lib/R/site-library’\n",
      "(as ‘lib’ is unspecified)\n",
      "\n",
      "Loading required package: snowfall\n",
      "\n",
      "Loading required package: snow\n",
      "\n",
      "Loading required package: NMF\n",
      "\n",
      "Loading required package: pkgmaker\n",
      "\n",
      "Loading required package: registry\n",
      "\n",
      "Loading required package: rngtools\n",
      "\n",
      "Loading required package: cluster\n",
      "\n",
      "NMF - BioConductor layer [OK] | Shared memory capabilities [NO: bigmemory] | Cores 39/40\n",
      "\n",
      "  To enable shared memory capabilities, try: install.extras('\n",
      "NMF\n",
      "')\n",
      "\n"
     ]
    }
   ],
   "source": [
    "library(\"devtools\")\n",
    "install_github(\"Danko-Lab/BayesPrism/BayesPrism\")\n",
    "suppressWarnings(library(BayesPrism))"
   ]
  },
  {
   "cell_type": "code",
   "execution_count": null,
   "metadata": {
    "id": "78BbO1bVXf4x"
   },
   "outputs": [],
   "source": [
    "setwd(\"/content\")\n",
    "dataset_zip = 'more_than_50_dummy'\n",
    "unzip(paste(dataset_zip, 'zip', sep='.'))"
   ]
  },
  {
   "cell_type": "code",
   "execution_count": null,
   "metadata": {
    "colab": {
     "base_uri": "https://localhost:8080/"
    },
    "id": "44Lga-FyOxgP",
    "outputId": "59bb4b64-4aff-4d9c-b455-c93b4c49072a"
   },
   "outputs": [
    {
     "name": "stdout",
     "output_type": "stream",
     "text": [
      " [1] \"./setup01\" \"./setup02\" \"./setup03\" \"./setup04\" \"./setup05\" \"./setup06\"\n",
      " [7] \"./setup07\" \"./setup08\" \"./setup09\" \"./setup10\"\n"
     ]
    }
   ],
   "source": [
    "main_dir = paste(\"/content/\", dataset_zip, sep=\"\")\n",
    "setwd(main_dir)\n",
    "folders <- as.vector(list.dirs())\n",
    "folders <- grep('setup', folders, value = TRUE)\n",
    "folders = (folders[!grepl(\"checkpoints\", folders)])\n",
    "print(folders)"
   ]
  },
  {
   "cell_type": "code",
   "execution_count": null,
   "metadata": {
    "colab": {
     "base_uri": "https://localhost:8080/"
    },
    "id": "iJKPM1zTXm9x",
    "outputId": "aad0993d-452b-4d57-80d6-079ddaed565b"
   },
   "outputs": [
    {
     "name": "stdout",
     "output_type": "stream",
     "text": [
      "[1] \"./setup01\"\n",
      "number of cells in each cell state \n",
      "cell.state.labels\n",
      "T1 T2 T3 T4 T5 T6 T7 T8 \n",
      " 1  1  1  1  1  1  1  1 \n",
      "recommend to have sufficient number of cells in each cell state \n",
      "No tumor reference is speficied. Reference cell types are treated equally. \n",
      "Number of outlier genes filtered from mixture = 0 \n",
      "Aligning reference and mixture... \n",
      "Nornalizing reference... \n"
     ]
    },
    {
     "name": "stderr",
     "output_type": "stream",
     "text": [
      "Warning message in validityMethod(object):\n",
      "“Warning: pseudo.min does not match min(phi)”\n",
      "Warning message in validityMethod(object):\n",
      "“Warning: pseudo.min does not match min(phi)”\n"
     ]
    },
    {
     "name": "stdout",
     "output_type": "stream",
     "text": [
      "Run Gibbs sampling... \n",
      "Current time:  2022-10-12 22:13:47 \n",
      "Estimated time to complete:  11mins \n",
      "Estimated finishing time:  2022-10-12 22:24:05 \n",
      "Start run... \n",
      "R Version:  R version 4.2.1 (2022-06-23) \n",
      "\n"
     ]
    },
    {
     "name": "stderr",
     "output_type": "stream",
     "text": [
      "snowfall 1.84-6.2 initialized (using snow 0.4-4): parallel execution on 40 CPUs.\n",
      "\n",
      "\n",
      "\n",
      "Stopping cluster\n",
      "\n",
      "\n"
     ]
    },
    {
     "name": "stdout",
     "output_type": "stream",
     "text": [
      "Update the reference matrix ... \n"
     ]
    },
    {
     "name": "stderr",
     "output_type": "stream",
     "text": [
      "snowfall 1.84-6.2 initialized (using snow 0.4-4): parallel execution on 40 CPUs.\n",
      "\n",
      "\n",
      "\n",
      "Stopping cluster\n",
      "\n",
      "\n"
     ]
    },
    {
     "name": "stdout",
     "output_type": "stream",
     "text": [
      "Run Gibbs sampling using updated reference ... \n",
      "Current time:  2022-10-12 22:23:59 \n",
      "Estimated time to complete:  10mins \n",
      "Estimated finishing time:  2022-10-12 22:33:36 \n",
      "Start run... \n"
     ]
    },
    {
     "name": "stderr",
     "output_type": "stream",
     "text": [
      "snowfall 1.84-6.2 initialized (using snow 0.4-4): parallel execution on 40 CPUs.\n",
      "\n",
      "\n",
      "\n",
      "Stopping cluster\n",
      "\n",
      "\n"
     ]
    },
    {
     "name": "stdout",
     "output_type": "stream",
     "text": [
      "[1] \"./setup02\"\n",
      "number of cells in each cell state \n",
      "cell.state.labels\n",
      "T1 T2 T3 T4 T5 T6 T7 T8 \n",
      " 1  1  1  1  1  1  1  1 \n",
      "recommend to have sufficient number of cells in each cell state \n",
      "No tumor reference is speficied. Reference cell types are treated equally. \n",
      "Number of outlier genes filtered from mixture = 0 \n",
      "Aligning reference and mixture... \n",
      "Nornalizing reference... \n"
     ]
    },
    {
     "name": "stderr",
     "output_type": "stream",
     "text": [
      "Warning message in validityMethod(object):\n",
      "“Warning: pseudo.min does not match min(phi)”\n",
      "Warning message in validityMethod(object):\n",
      "“Warning: pseudo.min does not match min(phi)”\n"
     ]
    },
    {
     "name": "stdout",
     "output_type": "stream",
     "text": [
      "Run Gibbs sampling... \n",
      "Current time:  2022-10-12 22:34:46 \n",
      "Estimated time to complete:  20mins \n",
      "Estimated finishing time:  2022-10-12 22:54:34 \n",
      "Start run... \n"
     ]
    },
    {
     "name": "stderr",
     "output_type": "stream",
     "text": [
      "snowfall 1.84-6.2 initialized (using snow 0.4-4): parallel execution on 40 CPUs.\n",
      "\n",
      "\n",
      "\n",
      "Stopping cluster\n",
      "\n",
      "\n"
     ]
    },
    {
     "name": "stdout",
     "output_type": "stream",
     "text": [
      "Update the reference matrix ... \n"
     ]
    },
    {
     "name": "stderr",
     "output_type": "stream",
     "text": [
      "snowfall 1.84-6.2 initialized (using snow 0.4-4): parallel execution on 40 CPUs.\n",
      "\n",
      "\n",
      "\n",
      "Stopping cluster\n",
      "\n",
      "\n"
     ]
    },
    {
     "name": "stdout",
     "output_type": "stream",
     "text": [
      "Run Gibbs sampling using updated reference ... \n",
      "Current time:  2022-10-12 22:48:09 \n",
      "Estimated time to complete:  16mins \n",
      "Estimated finishing time:  2022-10-12 23:03:33 \n",
      "Start run... \n"
     ]
    },
    {
     "name": "stderr",
     "output_type": "stream",
     "text": [
      "snowfall 1.84-6.2 initialized (using snow 0.4-4): parallel execution on 40 CPUs.\n",
      "\n",
      "\n",
      "\n",
      "Stopping cluster\n",
      "\n",
      "\n"
     ]
    },
    {
     "name": "stdout",
     "output_type": "stream",
     "text": [
      "[1] \"./setup03\"\n",
      "number of cells in each cell state \n",
      "cell.state.labels\n",
      "T1 T2 T3 T4 T5 T6 T7 T8 \n",
      " 1  1  1  1  1  1  1  1 \n",
      "recommend to have sufficient number of cells in each cell state \n",
      "No tumor reference is speficied. Reference cell types are treated equally. \n",
      "Number of outlier genes filtered from mixture = 0 \n",
      "Aligning reference and mixture... \n",
      "Nornalizing reference... \n"
     ]
    },
    {
     "name": "stderr",
     "output_type": "stream",
     "text": [
      "Warning message in validityMethod(object):\n",
      "“Warning: pseudo.min does not match min(phi)”\n",
      "Warning message in validityMethod(object):\n",
      "“Warning: pseudo.min does not match min(phi)”\n"
     ]
    },
    {
     "name": "stdout",
     "output_type": "stream",
     "text": [
      "Run Gibbs sampling... \n",
      "Current time:  2022-10-12 23:01:13 \n",
      "Estimated time to complete:  19mins \n",
      "Estimated finishing time:  2022-10-12 23:20:05 \n",
      "Start run... \n"
     ]
    },
    {
     "name": "stderr",
     "output_type": "stream",
     "text": [
      "snowfall 1.84-6.2 initialized (using snow 0.4-4): parallel execution on 40 CPUs.\n",
      "\n",
      "\n",
      "\n",
      "Stopping cluster\n",
      "\n",
      "\n"
     ]
    },
    {
     "name": "stdout",
     "output_type": "stream",
     "text": [
      "Update the reference matrix ... \n"
     ]
    },
    {
     "name": "stderr",
     "output_type": "stream",
     "text": [
      "snowfall 1.84-6.2 initialized (using snow 0.4-4): parallel execution on 40 CPUs.\n",
      "\n",
      "\n",
      "\n",
      "Stopping cluster\n",
      "\n",
      "\n"
     ]
    },
    {
     "name": "stdout",
     "output_type": "stream",
     "text": [
      "Run Gibbs sampling using updated reference ... \n",
      "Current time:  2022-10-12 23:14:38 \n",
      "Estimated time to complete:  16mins \n",
      "Estimated finishing time:  2022-10-12 23:30:01 \n",
      "Start run... \n"
     ]
    },
    {
     "name": "stderr",
     "output_type": "stream",
     "text": [
      "snowfall 1.84-6.2 initialized (using snow 0.4-4): parallel execution on 40 CPUs.\n",
      "\n",
      "\n",
      "\n",
      "Stopping cluster\n",
      "\n",
      "\n"
     ]
    },
    {
     "name": "stdout",
     "output_type": "stream",
     "text": [
      "[1] \"./setup04\"\n",
      "number of cells in each cell state \n",
      "cell.state.labels\n",
      "T1 T2 T3 T4 T5 T6 T7 T8 \n",
      " 1  1  1  1  1  1  1  1 \n",
      "recommend to have sufficient number of cells in each cell state \n",
      "No tumor reference is speficied. Reference cell types are treated equally. \n",
      "Number of outlier genes filtered from mixture = 0 \n",
      "Aligning reference and mixture... \n",
      "Nornalizing reference... \n"
     ]
    },
    {
     "name": "stderr",
     "output_type": "stream",
     "text": [
      "Warning message in validityMethod(object):\n",
      "“Warning: pseudo.min does not match min(phi)”\n",
      "Warning message in validityMethod(object):\n",
      "“Warning: pseudo.min does not match min(phi)”\n"
     ]
    },
    {
     "name": "stdout",
     "output_type": "stream",
     "text": [
      "Run Gibbs sampling... \n",
      "Current time:  2022-10-12 23:27:44 \n",
      "Estimated time to complete:  20mins \n",
      "Estimated finishing time:  2022-10-12 23:46:51 \n",
      "Start run... \n"
     ]
    },
    {
     "name": "stderr",
     "output_type": "stream",
     "text": [
      "snowfall 1.84-6.2 initialized (using snow 0.4-4): parallel execution on 40 CPUs.\n",
      "\n",
      "\n",
      "\n",
      "Stopping cluster\n",
      "\n",
      "\n"
     ]
    },
    {
     "name": "stdout",
     "output_type": "stream",
     "text": [
      "Update the reference matrix ... \n"
     ]
    },
    {
     "name": "stderr",
     "output_type": "stream",
     "text": [
      "snowfall 1.84-6.2 initialized (using snow 0.4-4): parallel execution on 40 CPUs.\n",
      "\n",
      "\n",
      "\n",
      "Stopping cluster\n",
      "\n",
      "\n"
     ]
    },
    {
     "name": "stdout",
     "output_type": "stream",
     "text": [
      "Run Gibbs sampling using updated reference ... \n",
      "Current time:  2022-10-12 23:41:24 \n",
      "Estimated time to complete:  16mins \n",
      "Estimated finishing time:  2022-10-12 23:56:41 \n",
      "Start run... \n"
     ]
    },
    {
     "name": "stderr",
     "output_type": "stream",
     "text": [
      "snowfall 1.84-6.2 initialized (using snow 0.4-4): parallel execution on 40 CPUs.\n",
      "\n",
      "\n",
      "\n",
      "Stopping cluster\n",
      "\n",
      "\n"
     ]
    },
    {
     "name": "stdout",
     "output_type": "stream",
     "text": [
      "[1] \"./setup05\"\n",
      "number of cells in each cell state \n",
      "cell.state.labels\n",
      "T1 T2 T3 T4 T5 T6 T7 T8 \n",
      " 1  1  1  1  1  1  1  1 \n",
      "recommend to have sufficient number of cells in each cell state \n",
      "No tumor reference is speficied. Reference cell types are treated equally. \n",
      "Number of outlier genes filtered from mixture = 0 \n",
      "Aligning reference and mixture... \n",
      "Nornalizing reference... \n"
     ]
    },
    {
     "name": "stderr",
     "output_type": "stream",
     "text": [
      "Warning message in validityMethod(object):\n",
      "“Warning: pseudo.min does not match min(phi)”\n",
      "Warning message in validityMethod(object):\n",
      "“Warning: pseudo.min does not match min(phi)”\n"
     ]
    },
    {
     "name": "stdout",
     "output_type": "stream",
     "text": [
      "Run Gibbs sampling... \n",
      "Current time:  2022-10-12 23:54:23 \n",
      "Estimated time to complete:  20mins \n",
      "Estimated finishing time:  2022-10-13 00:14:16 \n",
      "Start run... \n"
     ]
    },
    {
     "name": "stderr",
     "output_type": "stream",
     "text": [
      "snowfall 1.84-6.2 initialized (using snow 0.4-4): parallel execution on 40 CPUs.\n",
      "\n",
      "\n",
      "\n",
      "Stopping cluster\n",
      "\n",
      "\n"
     ]
    },
    {
     "name": "stdout",
     "output_type": "stream",
     "text": [
      "Update the reference matrix ... \n"
     ]
    },
    {
     "name": "stderr",
     "output_type": "stream",
     "text": [
      "snowfall 1.84-6.2 initialized (using snow 0.4-4): parallel execution on 40 CPUs.\n",
      "\n",
      "\n",
      "\n",
      "Stopping cluster\n",
      "\n",
      "\n"
     ]
    },
    {
     "name": "stdout",
     "output_type": "stream",
     "text": [
      "Run Gibbs sampling using updated reference ... \n",
      "Current time:  2022-10-13 00:07:42 \n",
      "Estimated time to complete:  16mins \n",
      "Estimated finishing time:  2022-10-13 00:22:51 \n",
      "Start run... \n"
     ]
    },
    {
     "name": "stderr",
     "output_type": "stream",
     "text": [
      "snowfall 1.84-6.2 initialized (using snow 0.4-4): parallel execution on 40 CPUs.\n",
      "\n",
      "\n",
      "\n",
      "Stopping cluster\n",
      "\n",
      "\n"
     ]
    },
    {
     "name": "stdout",
     "output_type": "stream",
     "text": [
      "[1] \"./setup06\"\n",
      "number of cells in each cell state \n",
      "cell.state.labels\n",
      "T1 T2 T3 T4 T5 T6 T7 T8 \n",
      " 1  1  1  1  1  1  1  1 \n",
      "recommend to have sufficient number of cells in each cell state \n",
      "No tumor reference is speficied. Reference cell types are treated equally. \n",
      "Number of outlier genes filtered from mixture = 0 \n",
      "Aligning reference and mixture... \n",
      "Nornalizing reference... \n"
     ]
    },
    {
     "name": "stderr",
     "output_type": "stream",
     "text": [
      "Warning message in validityMethod(object):\n",
      "“Warning: pseudo.min does not match min(phi)”\n",
      "Warning message in validityMethod(object):\n",
      "“Warning: pseudo.min does not match min(phi)”\n"
     ]
    },
    {
     "name": "stdout",
     "output_type": "stream",
     "text": [
      "Run Gibbs sampling... \n",
      "Current time:  2022-10-13 00:20:48 \n",
      "Estimated time to complete:  19mins \n",
      "Estimated finishing time:  2022-10-13 00:39:12 \n",
      "Start run... \n"
     ]
    },
    {
     "name": "stderr",
     "output_type": "stream",
     "text": [
      "snowfall 1.84-6.2 initialized (using snow 0.4-4): parallel execution on 40 CPUs.\n",
      "\n",
      "\n",
      "\n",
      "Stopping cluster\n",
      "\n",
      "\n"
     ]
    },
    {
     "name": "stdout",
     "output_type": "stream",
     "text": [
      "Update the reference matrix ... \n"
     ]
    },
    {
     "name": "stderr",
     "output_type": "stream",
     "text": [
      "snowfall 1.84-6.2 initialized (using snow 0.4-4): parallel execution on 40 CPUs.\n",
      "\n",
      "\n",
      "\n",
      "Stopping cluster\n",
      "\n",
      "\n"
     ]
    },
    {
     "name": "stdout",
     "output_type": "stream",
     "text": [
      "Run Gibbs sampling using updated reference ... \n",
      "Current time:  2022-10-13 00:34:23 \n",
      "Estimated time to complete:  16mins \n",
      "Estimated finishing time:  2022-10-13 00:49:32 \n",
      "Start run... \n"
     ]
    },
    {
     "name": "stderr",
     "output_type": "stream",
     "text": [
      "snowfall 1.84-6.2 initialized (using snow 0.4-4): parallel execution on 40 CPUs.\n",
      "\n",
      "\n",
      "\n",
      "Stopping cluster\n",
      "\n",
      "\n"
     ]
    },
    {
     "name": "stdout",
     "output_type": "stream",
     "text": [
      "[1] \"./setup07\"\n",
      "number of cells in each cell state \n",
      "cell.state.labels\n",
      "T1 T2 T3 T4 T5 T6 T7 T8 \n",
      " 1  1  1  1  1  1  1  1 \n",
      "recommend to have sufficient number of cells in each cell state \n",
      "No tumor reference is speficied. Reference cell types are treated equally. \n",
      "Number of outlier genes filtered from mixture = 0 \n",
      "Aligning reference and mixture... \n",
      "Nornalizing reference... \n"
     ]
    },
    {
     "name": "stderr",
     "output_type": "stream",
     "text": [
      "Warning message in validityMethod(object):\n",
      "“Warning: pseudo.min does not match min(phi)”\n",
      "Warning message in validityMethod(object):\n",
      "“Warning: pseudo.min does not match min(phi)”\n"
     ]
    },
    {
     "name": "stdout",
     "output_type": "stream",
     "text": [
      "Run Gibbs sampling... \n",
      "Current time:  2022-10-13 00:50:31 \n",
      "Estimated time to complete:  13mins \n",
      "Estimated finishing time:  2022-10-13 01:03:11 \n",
      "Start run... \n"
     ]
    },
    {
     "name": "stderr",
     "output_type": "stream",
     "text": [
      "snowfall 1.84-6.2 initialized (using snow 0.4-4): parallel execution on 40 CPUs.\n",
      "\n",
      "\n",
      "\n",
      "Stopping cluster\n",
      "\n",
      "\n"
     ]
    },
    {
     "name": "stdout",
     "output_type": "stream",
     "text": [
      "Update the reference matrix ... \n"
     ]
    },
    {
     "name": "stderr",
     "output_type": "stream",
     "text": [
      "snowfall 1.84-6.2 initialized (using snow 0.4-4): parallel execution on 40 CPUs.\n",
      "\n",
      "\n",
      "\n",
      "Stopping cluster\n",
      "\n",
      "\n"
     ]
    },
    {
     "name": "stdout",
     "output_type": "stream",
     "text": [
      "Run Gibbs sampling using updated reference ... \n",
      "Current time:  2022-10-13 01:13:12 \n",
      "Estimated time to complete:  11mins \n",
      "Estimated finishing time:  2022-10-13 01:23:45 \n",
      "Start run... \n"
     ]
    },
    {
     "name": "stderr",
     "output_type": "stream",
     "text": [
      "snowfall 1.84-6.2 initialized (using snow 0.4-4): parallel execution on 40 CPUs.\n",
      "\n",
      "\n",
      "\n",
      "Stopping cluster\n",
      "\n",
      "\n"
     ]
    },
    {
     "name": "stdout",
     "output_type": "stream",
     "text": [
      "[1] \"./setup08\"\n",
      "number of cells in each cell state \n",
      "cell.state.labels\n",
      "T1 T2 T3 T4 T5 T6 T7 T8 \n",
      " 1  1  1  1  1  1  1  1 \n",
      "recommend to have sufficient number of cells in each cell state \n",
      "No tumor reference is speficied. Reference cell types are treated equally. \n",
      "Number of outlier genes filtered from mixture = 0 \n",
      "Aligning reference and mixture... \n",
      "Nornalizing reference... \n"
     ]
    },
    {
     "name": "stderr",
     "output_type": "stream",
     "text": [
      "Warning message in validityMethod(object):\n",
      "“Warning: pseudo.min does not match min(phi)”\n",
      "Warning message in validityMethod(object):\n",
      "“Warning: pseudo.min does not match min(phi)”\n"
     ]
    },
    {
     "name": "stdout",
     "output_type": "stream",
     "text": [
      "Run Gibbs sampling... \n",
      "Current time:  2022-10-13 01:35:05 \n",
      "Estimated time to complete:  13mins \n",
      "Estimated finishing time:  2022-10-13 01:47:41 \n",
      "Start run... \n"
     ]
    },
    {
     "name": "stderr",
     "output_type": "stream",
     "text": [
      "snowfall 1.84-6.2 initialized (using snow 0.4-4): parallel execution on 40 CPUs.\n",
      "\n",
      "\n",
      "\n",
      "Stopping cluster\n",
      "\n",
      "\n"
     ]
    },
    {
     "name": "stdout",
     "output_type": "stream",
     "text": [
      "Update the reference matrix ... \n"
     ]
    },
    {
     "name": "stderr",
     "output_type": "stream",
     "text": [
      "snowfall 1.84-6.2 initialized (using snow 0.4-4): parallel execution on 40 CPUs.\n",
      "\n",
      "\n",
      "\n",
      "Stopping cluster\n",
      "\n",
      "\n"
     ]
    },
    {
     "name": "stdout",
     "output_type": "stream",
     "text": [
      "Run Gibbs sampling using updated reference ... \n",
      "Current time:  2022-10-13 01:57:16 \n",
      "Estimated time to complete:  11mins \n",
      "Estimated finishing time:  2022-10-13 02:07:53 \n",
      "Start run... \n"
     ]
    },
    {
     "name": "stderr",
     "output_type": "stream",
     "text": [
      "snowfall 1.84-6.2 initialized (using snow 0.4-4): parallel execution on 40 CPUs.\n",
      "\n",
      "\n",
      "\n",
      "Stopping cluster\n",
      "\n",
      "\n"
     ]
    },
    {
     "name": "stdout",
     "output_type": "stream",
     "text": [
      "[1] \"./setup09\"\n",
      "number of cells in each cell state \n",
      "cell.state.labels\n",
      "T1 T2 T3 T4 T5 T6 T7 T8 \n",
      " 1  1  1  1  1  1  1  1 \n",
      "recommend to have sufficient number of cells in each cell state \n",
      "No tumor reference is speficied. Reference cell types are treated equally. \n",
      "Number of outlier genes filtered from mixture = 0 \n",
      "Aligning reference and mixture... \n",
      "Nornalizing reference... \n"
     ]
    },
    {
     "name": "stderr",
     "output_type": "stream",
     "text": [
      "Warning message in validityMethod(object):\n",
      "“Warning: pseudo.min does not match min(phi)”\n",
      "Warning message in validityMethod(object):\n",
      "“Warning: pseudo.min does not match min(phi)”\n"
     ]
    },
    {
     "name": "stdout",
     "output_type": "stream",
     "text": [
      "Run Gibbs sampling... \n",
      "Current time:  2022-10-13 02:18:57 \n",
      "Estimated time to complete:  13mins \n",
      "Estimated finishing time:  2022-10-13 02:31:24 \n",
      "Start run... \n"
     ]
    },
    {
     "name": "stderr",
     "output_type": "stream",
     "text": [
      "snowfall 1.84-6.2 initialized (using snow 0.4-4): parallel execution on 40 CPUs.\n",
      "\n",
      "\n",
      "\n",
      "Stopping cluster\n",
      "\n",
      "\n"
     ]
    },
    {
     "name": "stdout",
     "output_type": "stream",
     "text": [
      "Update the reference matrix ... \n"
     ]
    },
    {
     "name": "stderr",
     "output_type": "stream",
     "text": [
      "snowfall 1.84-6.2 initialized (using snow 0.4-4): parallel execution on 40 CPUs.\n",
      "\n",
      "\n",
      "\n",
      "Stopping cluster\n",
      "\n",
      "\n"
     ]
    },
    {
     "name": "stdout",
     "output_type": "stream",
     "text": [
      "Run Gibbs sampling using updated reference ... \n",
      "Current time:  2022-10-13 02:41:01 \n",
      "Estimated time to complete:  11mins \n",
      "Estimated finishing time:  2022-10-13 02:51:38 \n",
      "Start run... \n"
     ]
    },
    {
     "name": "stderr",
     "output_type": "stream",
     "text": [
      "snowfall 1.84-6.2 initialized (using snow 0.4-4): parallel execution on 40 CPUs.\n",
      "\n",
      "\n",
      "\n",
      "Stopping cluster\n",
      "\n",
      "\n"
     ]
    },
    {
     "name": "stdout",
     "output_type": "stream",
     "text": [
      "[1] \"./setup10\"\n",
      "number of cells in each cell state \n",
      "cell.state.labels\n",
      "T1 T2 T3 T4 T5 T6 T7 T8 \n",
      " 1  1  1  1  1  1  1  1 \n",
      "recommend to have sufficient number of cells in each cell state \n",
      "No tumor reference is speficied. Reference cell types are treated equally. \n",
      "Number of outlier genes filtered from mixture = 0 \n",
      "Aligning reference and mixture... \n",
      "Nornalizing reference... \n"
     ]
    },
    {
     "name": "stderr",
     "output_type": "stream",
     "text": [
      "Warning message in validityMethod(object):\n",
      "“Warning: pseudo.min does not match min(phi)”\n",
      "Warning message in validityMethod(object):\n",
      "“Warning: pseudo.min does not match min(phi)”\n"
     ]
    },
    {
     "name": "stdout",
     "output_type": "stream",
     "text": [
      "Run Gibbs sampling... \n",
      "Current time:  2022-10-13 03:02:42 \n",
      "Estimated time to complete:  13mins \n",
      "Estimated finishing time:  2022-10-13 03:15:22 \n",
      "Start run... \n"
     ]
    },
    {
     "name": "stderr",
     "output_type": "stream",
     "text": [
      "snowfall 1.84-6.2 initialized (using snow 0.4-4): parallel execution on 40 CPUs.\n",
      "\n",
      "\n",
      "\n",
      "Stopping cluster\n",
      "\n",
      "\n"
     ]
    },
    {
     "name": "stdout",
     "output_type": "stream",
     "text": [
      "Update the reference matrix ... \n"
     ]
    },
    {
     "name": "stderr",
     "output_type": "stream",
     "text": [
      "snowfall 1.84-6.2 initialized (using snow 0.4-4): parallel execution on 40 CPUs.\n",
      "\n",
      "\n",
      "\n",
      "Stopping cluster\n",
      "\n",
      "\n"
     ]
    },
    {
     "name": "stdout",
     "output_type": "stream",
     "text": [
      "Run Gibbs sampling using updated reference ... \n",
      "Current time:  2022-10-13 03:24:27 \n",
      "Estimated time to complete:  11mins \n",
      "Estimated finishing time:  2022-10-13 03:35:06 \n",
      "Start run... \n"
     ]
    },
    {
     "name": "stderr",
     "output_type": "stream",
     "text": [
      "snowfall 1.84-6.2 initialized (using snow 0.4-4): parallel execution on 40 CPUs.\n",
      "\n",
      "\n",
      "\n",
      "Stopping cluster\n",
      "\n",
      "\n"
     ]
    }
   ],
   "source": [
    "for (sub_dir in folders) {\n",
    "  print(sub_dir)\n",
    "    setwd(paste(main_dir, sub_dir, sep=\"/\"))\n",
    "    c_gs <- t(read.csv(\"C_gs.csv\", row.names = 1, header= TRUE))\n",
    "    true_lambda <- t(read.csv(\"TRUE_lambda.csv\", row.names = 1, header= TRUE))\n",
    "    cell.type.labels = rownames(true_lambda)\n",
    "    cell.state.labels = rownames(true_lambda)\n",
    "\n",
    "    myPrism <- new.prism(\n",
    "      reference= true_lambda, #sc.dat.filtered.pc, \n",
    "      mixture = c_gs, #bk.dat,\n",
    "      input.type = \"GEP\", \n",
    "      cell.type.labels = cell.type.labels, \n",
    "      cell.state.labels = cell.state.labels,\n",
    "      key = NULL,\n",
    "      outlier.fraction=1.)\n",
    "\n",
    "    bp.res <- run.prism(prism = myPrism, n.cores=40)\n",
    "\n",
    "    theta <- get.fraction (bp=bp.res,\n",
    "                which.theta=\"final\",\n",
    "                state.or.type=\"type\")\n",
    "\n",
    "    write.table(theta,file=paste(sub_dir, \"csv\", sep=\".\"))\n",
    "  \n",
    "}"
   ]
  },
  {
   "cell_type": "code",
   "execution_count": null,
   "metadata": {
    "id": "52nFbbrfWpSj"
   },
   "outputs": [],
   "source": [
    "setwd(\"/content\")\n",
    "zip(paste(dataset_zip, 'zip', sep='.'), dataset_zip)"
   ]
  },
  {
   "cell_type": "code",
   "execution_count": null,
   "metadata": {
    "colab": {
     "base_uri": "https://localhost:8080/",
     "height": 34
    },
    "id": "obfy5AlYaz2F",
    "outputId": "e0b39e30-c733-49f8-8b61-553d655b11c6"
   },
   "outputs": [
    {
     "data": {
      "text/html": [
       "'more_than_50_dummy.zip'"
      ],
      "text/latex": [
       "'more\\_than\\_50\\_dummy.zip'"
      ],
      "text/markdown": [
       "'more_than_50_dummy.zip'"
      ],
      "text/plain": [
       "[1] \"more_than_50_dummy.zip\""
      ]
     },
     "metadata": {},
     "output_type": "display_data"
    }
   ],
   "source": []
  }
 ],
 "metadata": {
  "accelerator": "TPU",
  "colab": {
   "collapsed_sections": [],
   "machine_shape": "hm",
   "provenance": []
  },
  "gpuClass": "standard",
  "kernelspec": {
   "display_name": "R",
   "name": "ir"
  },
  "language_info": {
   "name": "R"
  }
 },
 "nbformat": 4,
 "nbformat_minor": 4
}
